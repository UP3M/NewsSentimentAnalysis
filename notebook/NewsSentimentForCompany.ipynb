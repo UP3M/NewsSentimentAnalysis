{
  "cells": [
    {
      "cell_type": "markdown",
      "metadata": {
        "id": "tKetv1k1nqUo"
      },
      "source": [
        "##Team Member:\n",
        "### Made Oka Resia Wedamerta (m.wedamerta@innopolis.university)\n",
        "### Mahmoud Mousatat (m.mousatat@innopolis.univeristy)"
      ]
    },
    {
      "cell_type": "markdown",
      "metadata": {
        "id": "QT8105Lfo8r9"
      },
      "source": [
        "# News Sentiment Analysis For Company"
      ]
    },
    {
      "cell_type": "markdown",
      "metadata": {
        "id": "iU-D3t1WADy5"
      },
      "source": [
        "##1D-CNN\n"
      ]
    },
    {
      "cell_type": "markdown",
      "metadata": {
        "id": "i-6Tn2XJCF0n"
      },
      "source": [
        "### Implementation of deep learning model"
      ]
    },
    {
      "cell_type": "markdown",
      "metadata": {
        "id": "8NAW1SCUCYMu"
      },
      "source": [
        "This model's design was chosen because it is simple to use and allows for quick calculation since convolutions may be used in place of recurrence. Convolutions appear to be able to capture a wide range of themes, based on the relative strength of this model; however, the model is constrained in that it only gets to view the text once. Adding an attention mechanism with recurrence after the convolutions, which would enable the model to query specific elements of the headline/body after getting a broad summary from CNN, might be a viable enhancement to this model.\n"
      ]
    },
    {
      "cell_type": "code",
      "execution_count": null,
      "metadata": {
        "colab": {
          "base_uri": "https://localhost:8080/"
        },
        "id": "RflbmpT2ZHel",
        "outputId": "83dc1bdb-6eea-4659-e59a-90e8617acccd"
      },
      "outputs": [
        {
          "name": "stdout",
          "output_type": "stream",
          "text": [
            "Looking in indexes: https://pypi.org/simple, https://us-python.pkg.dev/colab-wheels/public/simple/\n",
            "Requirement already satisfied: keras in /usr/local/lib/python3.9/dist-packages (2.12.0)\n"
          ]
        }
      ],
      "source": [
        "!pip install keras"
      ]
    },
    {
      "cell_type": "code",
      "execution_count": 6,
      "metadata": {
        "id": "Q9FKqKjf8NAH"
      },
      "outputs": [],
      "source": [
        "import pandas as pd\n",
        "import numpy as np\n",
        "import keras\n",
        "from keras.preprocessing.text import Tokenizer\n",
        "from keras.utils import pad_sequences\n",
        "from keras.layers import Dense, Input, Flatten, Dropout, Activation\n",
        "from keras.layers import Conv1D, MaxPooling1D, Embedding, concatenate\n",
        "from keras.models import Model\n",
        "from keras.utils import to_categorical\n"
      ]
    },
    {
      "cell_type": "code",
      "execution_count": null,
      "metadata": {
        "id": "DyfZ9ar28RWi"
      },
      "outputs": [],
      "source": [
        "# Load the data into a Pandas dataframe.\n",
        "df_content = pd.read_csv('train_bodies.csv')\n",
        "df_headline = pd.read_csv('train_stances.csv')\n",
        "\n",
        "df = pd.merge(df_content, df_headline, on=\"Body ID\")"
      ]
    },
    {
      "cell_type": "code",
      "execution_count": null,
      "metadata": {
        "id": "N91bboVl8oaG"
      },
      "outputs": [],
      "source": [
        "import json\n",
        "\n",
        "MAX_NB_WORDS = 50000\n",
        "MAX_SEQUENCE_LENGTH = 250\n",
        "\n",
        "tokenizer = Tokenizer(num_words=MAX_NB_WORDS)\n",
        "tokenizer.fit_on_texts(df['Headline'].values)\n",
        "word_index = tokenizer.word_index\n",
        "X_headline = tokenizer.texts_to_sequences(df['Headline'].values)\n",
        "X_headline = pad_sequences(X_headline, maxlen=MAX_SEQUENCE_LENGTH)\n",
        "\n",
        "# Save the tokenizer to a file\n",
        "with open('tokenizer_head.json', 'w', encoding='utf-8') as f:\n",
        "    f.write(tokenizer.to_json())\n",
        "\n",
        "tokenizer = Tokenizer(num_words=MAX_NB_WORDS)\n",
        "tokenizer.fit_on_texts(df['articleBody'].values)\n",
        "word_index = tokenizer.word_index\n",
        "X_article = tokenizer.texts_to_sequences(df['articleBody'].values)\n",
        "X_article = pad_sequences(X_article, maxlen=MAX_SEQUENCE_LENGTH)\n",
        "\n",
        "with open('tokenizer_body.json', 'w', encoding='utf-8') as f:\n",
        "    f.write(tokenizer.to_json())\n",
        "\n",
        "Y = pd.get_dummies(df['Stance']).values\n"
      ]
    },
    {
      "cell_type": "code",
      "execution_count": null,
      "metadata": {
        "colab": {
          "base_uri": "https://localhost:8080/"
        },
        "id": "aXrznBEntHai",
        "outputId": "c59ecd07-e132-4964-b169-6e9b0b52e146"
      },
      "outputs": [
        {
          "data": {
            "text/plain": [
              "0        unrelated\n",
              "1        unrelated\n",
              "2        unrelated\n",
              "3        unrelated\n",
              "4        unrelated\n",
              "           ...    \n",
              "49967        agree\n",
              "49968        agree\n",
              "49969        agree\n",
              "49970        agree\n",
              "49971        agree\n",
              "Name: Stance, Length: 49972, dtype: object"
            ]
          },
          "execution_count": 24,
          "metadata": {},
          "output_type": "execute_result"
        }
      ],
      "source": [
        "df['Stance']"
      ]
    },
    {
      "cell_type": "code",
      "execution_count": null,
      "metadata": {
        "colab": {
          "base_uri": "https://localhost:8080/"
        },
        "id": "bXpMKIBitAY7",
        "outputId": "440aa5cc-ee66-455a-def1-248864b8eeef"
      },
      "outputs": [
        {
          "data": {
            "text/plain": [
              "array([0, 0, 0, 1], dtype=uint8)"
            ]
          },
          "execution_count": 27,
          "metadata": {},
          "output_type": "execute_result"
        }
      ],
      "source": [
        "Y[49971]"
      ]
    },
    {
      "cell_type": "code",
      "execution_count": null,
      "metadata": {
        "id": "Lb3YYQ0bWUM9"
      },
      "outputs": [],
      "source": [
        "VALIDATION_SPLIT = 0.2\n",
        "\n",
        "indices = np.arange(X_headline.shape[0])\n",
        "np.random.shuffle(indices)\n",
        "X_headline = X_headline[indices]\n",
        "X_article = X_article[indices]\n",
        "Y = Y[indices]\n",
        "nb_validation_samples = int(VALIDATION_SPLIT * X_headline.shape[0])\n",
        "\n",
        "x_headline_train = X_headline[:-nb_validation_samples]\n",
        "x_article_train = X_article[:-nb_validation_samples]\n",
        "y_train = Y[:-nb_validation_samples]\n",
        "x_headline_test = X_headline[-nb_validation_samples:]\n",
        "x_article_test = X_article[-nb_validation_samples:]\n",
        "y_test = Y[-nb_validation_samples:]\n"
      ]
    },
    {
      "cell_type": "code",
      "execution_count": null,
      "metadata": {
        "colab": {
          "base_uri": "https://localhost:8080/"
        },
        "id": "1Oj6qVNPWaRx",
        "outputId": "7a0559c0-5c5a-4210-8839-477fcc9409f9"
      },
      "outputs": [
        {
          "name": "stdout",
          "output_type": "stream",
          "text": [
            "Model: \"model\"\n",
            "__________________________________________________________________________________________________\n",
            " Layer (type)                   Output Shape         Param #     Connected to                     \n",
            "==================================================================================================\n",
            " input_1 (InputLayer)           [(None, 250)]        0           []                               \n",
            "                                                                                                  \n",
            " input_2 (InputLayer)           [(None, 250)]        0           []                               \n",
            "                                                                                                  \n",
            " embedding (Embedding)          (None, 250, 100)     5000000     ['input_1[0][0]']                \n",
            "                                                                                                  \n",
            " embedding_1 (Embedding)        (None, 250, 100)     5000000     ['input_2[0][0]']                \n",
            "                                                                                                  \n",
            " conv1d (Conv1D)                (None, 246, 128)     64128       ['embedding[0][0]']              \n",
            "                                                                                                  \n",
            " conv1d_1 (Conv1D)              (None, 246, 128)     64128       ['embedding_1[0][0]']            \n",
            "                                                                                                  \n",
            " max_pooling1d (MaxPooling1D)   (None, 61, 128)      0           ['conv1d[0][0]']                 \n",
            "                                                                                                  \n",
            " max_pooling1d_1 (MaxPooling1D)  (None, 61, 128)     0           ['conv1d_1[0][0]']               \n",
            "                                                                                                  \n",
            " flatten (Flatten)              (None, 7808)         0           ['max_pooling1d[0][0]']          \n",
            "                                                                                                  \n",
            " flatten_1 (Flatten)            (None, 7808)         0           ['max_pooling1d_1[0][0]']        \n",
            "                                                                                                  \n",
            " concatenate (Concatenate)      (None, 15616)        0           ['flatten[0][0]',                \n",
            "                                                                  'flatten_1[0][0]']              \n",
            "                                                                                                  \n",
            " dropout (Dropout)              (None, 15616)        0           ['concatenate[0][0]']            \n",
            "                                                                                                  \n",
            " dense (Dense)                  (None, 4)            62468       ['dropout[0][0]']                \n",
            "                                                                                                  \n",
            "==================================================================================================\n",
            "Total params: 10,190,724\n",
            "Trainable params: 10,190,724\n",
            "Non-trainable params: 0\n",
            "__________________________________________________________________________________________________\n",
            "None\n",
            "Epoch 1/5\n",
            "1250/1250 [==============================] - 344s 274ms/step - loss: 0.5946 - accuracy: 0.7818 - val_loss: 0.5195 - val_accuracy: 0.8074\n",
            "Epoch 2/5\n",
            "1250/1250 [==============================] - 342s 273ms/step - loss: 0.4612 - accuracy: 0.8254 - val_loss: 0.4851 - val_accuracy: 0.8109\n",
            "Epoch 3/5\n",
            "1250/1250 [==============================] - 335s 268ms/step - loss: 0.4238 - accuracy: 0.8361 - val_loss: 0.4782 - val_accuracy: 0.8235\n",
            "Epoch 4/5\n",
            "1250/1250 [==============================] - 357s 286ms/step - loss: 0.4025 - accuracy: 0.8427 - val_loss: 0.4696 - val_accuracy: 0.8264\n",
            "Epoch 5/5\n",
            "1250/1250 [==============================] - 343s 274ms/step - loss: 0.3897 - accuracy: 0.8452 - val_loss: 0.4721 - val_accuracy: 0.8281\n"
          ]
        }
      ],
      "source": [
        "EMBEDDING_DIM = 100\n",
        "N_FILTERS = 128\n",
        "FILTER_SIZE = 5\n",
        "POOL_SIZE = 4\n",
        "EPOCHS = 5\n",
        "BATCH_SIZE = 32\n",
        "\n",
        "input_headline = Input(shape=(MAX_SEQUENCE_LENGTH,), dtype='int32')\n",
        "embedding_headline = Embedding(MAX_NB_WORDS, EMBEDDING_DIM, input_length=MAX_SEQUENCE_LENGTH)(input_headline)\n",
        "conv_headline = Conv1D(N_FILTERS, FILTER_SIZE, activation='relu')(embedding_headline)\n",
        "pool_headline = MaxPooling1D(POOL_SIZE)(conv_headline)\n",
        "flatten_headline = Flatten()(pool_headline)\n",
        "\n",
        "input_article = Input(shape=(MAX_SEQUENCE_LENGTH,), dtype='int32')\n",
        "embedding_article = Embedding(MAX_NB_WORDS, EMBEDDING_DIM, input_length=MAX_SEQUENCE_LENGTH)(input_article)\n",
        "conv_article = Conv1D(N_FILTERS, FILTER_SIZE, activation='relu')(embedding_article)\n",
        "pool_article = MaxPooling1D(POOL_SIZE)(conv_article)\n",
        "flatten_article = Flatten()(pool_article)\n",
        "\n",
        "merged = concatenate([flatten_headline, flatten_article])\n",
        "dropout_layer = Dropout(0.5)(merged)\n",
        "outputs = Dense(Y.shape[1], activation='softmax')(dropout_layer)\n",
        "\n",
        "model = Model(inputs=[input_headline, input_article], outputs=outputs)\n",
        "model.compile(loss='categorical_crossentropy', optimizer='adam', metrics=['accuracy'])\n",
        "\n",
        "print(model.summary())\n",
        "\n",
        "history = model.fit(x=[x_headline_train, x_article_train], y=y_train, validation_data=([x_headline_test, x_article_test], y_test), epochs=EPOCHS, batch_size=BATCH_SIZE)\n"
      ]
    },
    {
      "cell_type": "code",
      "execution_count": null,
      "metadata": {
        "colab": {
          "base_uri": "https://localhost:8080/"
        },
        "id": "J1MzlqI5WbzJ",
        "outputId": "a46f6c87-b2d8-4a8e-b5a7-2dd55ad550d7"
      },
      "outputs": [
        {
          "name": "stdout",
          "output_type": "stream",
          "text": [
            "313/313 [==============================] - 14s 45ms/step - loss: 0.4721 - accuracy: 0.8281\n",
            "Test score: 0.4720973074436188\n",
            "Test accuracy: 0.828096866607666\n"
          ]
        }
      ],
      "source": [
        "score, acc = model.evaluate([x_headline_test, x_article_test], y_test, batch_size=BATCH_SIZE)\n",
        "print('Test score:', score)\n",
        "print('Test accuracy:', acc)\n"
      ]
    },
    {
      "cell_type": "code",
      "execution_count": null,
      "metadata": {
        "colab": {
          "base_uri": "https://localhost:8080/"
        },
        "id": "r82-UMZiaTLH",
        "outputId": "53c7bb1f-b967-48e1-f36a-2c5a2c3db12d"
      },
      "outputs": [
        {
          "name": "stderr",
          "output_type": "stream",
          "text": [
            "WARNING:absl:Found untraced functions such as _jit_compiled_convolution_op, _jit_compiled_convolution_op, _update_step_xla while saving (showing 3 of 3). These functions will not be directly callable after loading.\n"
          ]
        }
      ],
      "source": [
        "# Save the entire model as a SavedModel.\n",
        "!mkdir -p saved_model\n",
        "model.save('saved_model/cnn_pretrain')"
      ]
    },
    {
      "cell_type": "code",
      "execution_count": 1,
      "metadata": {
        "colab": {
          "base_uri": "https://localhost:8080/"
        },
        "id": "Yir6wol3n1GG",
        "outputId": "ab1b0b40-256b-4379-d52f-f015b18885ae"
      },
      "outputs": [
        {
          "output_type": "stream",
          "name": "stdout",
          "text": [
            "Mounted at /content/drive\n"
          ]
        }
      ],
      "source": [
        "from google.colab import drive\n",
        "drive.mount('/content/drive')"
      ]
    },
    {
      "cell_type": "code",
      "execution_count": null,
      "metadata": {
        "id": "Qm8qFUyEf0wg"
      },
      "outputs": [],
      "source": [
        "!cp -r \"/content/saved_model\" \"/content/drive/MyDrive/newsforcompany_pretrain/cnn/cnn_pretrain\""
      ]
    },
    {
      "cell_type": "code",
      "execution_count": 2,
      "metadata": {
        "colab": {
          "base_uri": "https://localhost:8080/"
        },
        "id": "RL5VLNyudiry",
        "outputId": "97d2c5ab-6c54-4337-ebe6-fde7a2536d55"
      },
      "outputs": [
        {
          "output_type": "stream",
          "name": "stdout",
          "text": [
            "Model: \"model\"\n",
            "__________________________________________________________________________________________________\n",
            " Layer (type)                Output Shape                 Param #   Connected to                  \n",
            "==================================================================================================\n",
            " input_1 (InputLayer)        [(None, 250)]                0         []                            \n",
            "                                                                                                  \n",
            " input_2 (InputLayer)        [(None, 250)]                0         []                            \n",
            "                                                                                                  \n",
            " embedding (Embedding)       (None, 250, 100)             5000000   ['input_1[0][0]']             \n",
            "                                                                                                  \n",
            " embedding_1 (Embedding)     (None, 250, 100)             5000000   ['input_2[0][0]']             \n",
            "                                                                                                  \n",
            " conv1d (Conv1D)             (None, 246, 128)             64128     ['embedding[0][0]']           \n",
            "                                                                                                  \n",
            " conv1d_1 (Conv1D)           (None, 246, 128)             64128     ['embedding_1[0][0]']         \n",
            "                                                                                                  \n",
            " max_pooling1d (MaxPooling1  (None, 61, 128)              0         ['conv1d[0][0]']              \n",
            " D)                                                                                               \n",
            "                                                                                                  \n",
            " max_pooling1d_1 (MaxPoolin  (None, 61, 128)              0         ['conv1d_1[0][0]']            \n",
            " g1D)                                                                                             \n",
            "                                                                                                  \n",
            " flatten (Flatten)           (None, 7808)                 0         ['max_pooling1d[0][0]']       \n",
            "                                                                                                  \n",
            " flatten_1 (Flatten)         (None, 7808)                 0         ['max_pooling1d_1[0][0]']     \n",
            "                                                                                                  \n",
            " concatenate (Concatenate)   (None, 15616)                0         ['flatten[0][0]',             \n",
            "                                                                     'flatten_1[0][0]']           \n",
            "                                                                                                  \n",
            " dropout (Dropout)           (None, 15616)                0         ['concatenate[0][0]']         \n",
            "                                                                                                  \n",
            " dense (Dense)               (None, 4)                    62468     ['dropout[0][0]']             \n",
            "                                                                                                  \n",
            "==================================================================================================\n",
            "Total params: 10190724 (38.87 MB)\n",
            "Trainable params: 10190724 (38.87 MB)\n",
            "Non-trainable params: 0 (0.00 Byte)\n",
            "__________________________________________________________________________________________________\n"
          ]
        }
      ],
      "source": [
        "import tensorflow as tf\n",
        "from tensorflow import keras\n",
        "new_model = tf.keras.models.load_model('/content/drive/MyDrive/newsforcompany_pretrain/cnn/cnn_pretrain')\n",
        "\n",
        "# Check its architecture\n",
        "new_model.summary()"
      ]
    },
    {
      "cell_type": "code",
      "execution_count": null,
      "metadata": {
        "id": "xVV4efAHd621"
      },
      "outputs": [],
      "source": [
        "# # Evaluate the restored model\n",
        "# loss, acc = new_model.evaluate(test_images, test_labels, verbose=2)\n",
        "# print('Restored model, accuracy: {:5.2f}%'.format(100 * acc))\n",
        "\n",
        "# print(new_model.predict(test_images).shape)"
      ]
    },
    {
      "cell_type": "code",
      "execution_count": 4,
      "metadata": {
        "id": "ZrGnOuUO7bNb"
      },
      "outputs": [],
      "source": [
        "new_headline = \"SoftBank CEO says artificial general intelligence will come within 10 years.\"\n",
        "company_profile = \"Google LLC is an American multinational technology company focusing on artificial intelligence, online advertising, search engine technology, cloud computing, computer software, quantum computing, e-commerce, and consumer electronics.\""
      ]
    },
    {
      "cell_type": "code",
      "execution_count": 8,
      "metadata": {
        "colab": {
          "base_uri": "https://localhost:8080/"
        },
        "id": "FxVQ0BASXqVg",
        "outputId": "67953dc2-1c7f-44c5-99ba-65f1a3358bac"
      },
      "outputs": [
        {
          "output_type": "stream",
          "name": "stdout",
          "text": [
            "1/1 [==============================] - 6s 6s/step\n",
            "Predicted class:  3\n",
            "Predicted probabilities:  [0.04436179 0.06169718 0.3093505  0.58459055]\n"
          ]
        }
      ],
      "source": [
        "import json\n",
        "from keras.preprocessing.text import tokenizer_from_json\n",
        "\n",
        "MAX_SEQUENCE_LENGTH = 250\n",
        "# Load the tokenizer from file\n",
        "with open('/content/drive/MyDrive/newsforcompany_pretrain/cnn/cnn_tokenizer/tokenizer_headline.json', 'r', encoding='utf-8') as f:\n",
        "    tokenizer_json = f.read()\n",
        "    tokenizer = tokenizer_from_json(tokenizer_json)\n",
        "# Convert the new data to sequences of integers\n",
        "new_headline_seq = tokenizer.texts_to_sequences([new_headline])[0]\n",
        "# Pad the sequences to have the same length\n",
        "new_headline_seq = pad_sequences([new_headline_seq], maxlen=MAX_SEQUENCE_LENGTH)\n",
        "\n",
        "with open('/content/drive/MyDrive/newsforcompany_pretrain/cnn/cnn_tokenizer/tokenizer_profile.json', 'r', encoding='utf-8') as f:\n",
        "    tokenizer_json = f.read()\n",
        "    tokenizer = tokenizer_from_json(tokenizer_json)\n",
        "company_profile_seq = tokenizer.texts_to_sequences([company_profile])[0]\n",
        "company_profile_seq = pad_sequences([company_profile_seq], maxlen=MAX_SEQUENCE_LENGTH)\n",
        "\n",
        "# Preprocess the new data (assume new_headline and new_article are already preprocessed)\n",
        "new_data = [new_headline_seq, company_profile_seq]\n",
        "# Make predictions\n",
        "y_pred = new_model.predict(new_data)\n",
        "\n",
        "# Get the predicted class\n",
        "predicted_class = np.argmax(y_pred)\n",
        "\n",
        "# Get the predicted probability for each class\n",
        "predicted_probabilities = y_pred[0]\n",
        "\n",
        "# Print the predicted class and probability for each class\n",
        "ids_to_labels = {0:\"unrelated\", 1:\"related_neutral\", 2:\"related_negative\", 3:\"related_positive\"}\n",
        "predicted_class = [ids_to_labels[i] for i in predictions]\n",
        "print(\"Predicted class: \", predicted_class)\n",
        "print(\"Predicted probabilities: \", predicted_probabilities)\n"
      ]
    },
    {
      "cell_type": "markdown",
      "metadata": {
        "id": "EAaX9JY3YBE6"
      },
      "source": [
        "## BERT Implementation\n",
        "\n",
        "BERT is a advanced pre-trained word embedding model based on transformer encoded architecture. We utilize BERT as a sentence encoder, which can accurately get the context representation of a sentence. BERT removes the unidirectional constraint using a mask language model (MLM). It randomly masks some of the tokens from the input and predicts the original vocabulary id of the masked word based only. MLM has increased the capability of BERT to outperforms as compared to previous embedding methods. It is a deeply bidirectional system that is capable of handling the unlabelled text by jointly conditioning on both left and right context in all layers. In this research, we have extracted embeddings for a sentence or a set of words or pooling the sequence of hidden-states for the whole input sequence. A deep bidirectional model is more powerful than a shallow left-to-right and right-to-left model."
      ]
    },
    {
      "cell_type": "code",
      "execution_count": 10,
      "metadata": {
        "id": "YTHrkpz7YExM",
        "colab": {
          "base_uri": "https://localhost:8080/"
        },
        "outputId": "b21e954e-394b-407f-c6ff-9ec7fb532451"
      },
      "outputs": [
        {
          "output_type": "stream",
          "name": "stdout",
          "text": [
            "Collecting transformers\n",
            "  Downloading transformers-4.34.0-py3-none-any.whl (7.7 MB)\n",
            "\u001b[2K     \u001b[90m━━━━━━━━━━━━━━━━━━━━━━━━━━━━━━━━━━━━━━━━\u001b[0m \u001b[32m7.7/7.7 MB\u001b[0m \u001b[31m64.2 MB/s\u001b[0m eta \u001b[36m0:00:00\u001b[0m\n",
            "\u001b[?25hRequirement already satisfied: filelock in /usr/local/lib/python3.10/dist-packages (from transformers) (3.12.4)\n",
            "Collecting huggingface-hub<1.0,>=0.16.4 (from transformers)\n",
            "  Downloading huggingface_hub-0.17.3-py3-none-any.whl (295 kB)\n",
            "\u001b[2K     \u001b[90m━━━━━━━━━━━━━━━━━━━━━━━━━━━━━━━━━━━━━━\u001b[0m \u001b[32m295.0/295.0 kB\u001b[0m \u001b[31m35.1 MB/s\u001b[0m eta \u001b[36m0:00:00\u001b[0m\n",
            "\u001b[?25hRequirement already satisfied: numpy>=1.17 in /usr/local/lib/python3.10/dist-packages (from transformers) (1.23.5)\n",
            "Requirement already satisfied: packaging>=20.0 in /usr/local/lib/python3.10/dist-packages (from transformers) (23.2)\n",
            "Requirement already satisfied: pyyaml>=5.1 in /usr/local/lib/python3.10/dist-packages (from transformers) (6.0.1)\n",
            "Requirement already satisfied: regex!=2019.12.17 in /usr/local/lib/python3.10/dist-packages (from transformers) (2023.6.3)\n",
            "Requirement already satisfied: requests in /usr/local/lib/python3.10/dist-packages (from transformers) (2.31.0)\n",
            "Collecting tokenizers<0.15,>=0.14 (from transformers)\n",
            "  Downloading tokenizers-0.14.0-cp310-cp310-manylinux_2_17_x86_64.manylinux2014_x86_64.whl (3.8 MB)\n",
            "\u001b[2K     \u001b[90m━━━━━━━━━━━━━━━━━━━━━━━━━━━━━━━━━━━━━━━━\u001b[0m \u001b[32m3.8/3.8 MB\u001b[0m \u001b[31m23.3 MB/s\u001b[0m eta \u001b[36m0:00:00\u001b[0m\n",
            "\u001b[?25hCollecting safetensors>=0.3.1 (from transformers)\n",
            "  Downloading safetensors-0.3.3-cp310-cp310-manylinux_2_17_x86_64.manylinux2014_x86_64.whl (1.3 MB)\n",
            "\u001b[2K     \u001b[90m━━━━━━━━━━━━━━━━━━━━━━━━━━━━━━━━━━━━━━━━\u001b[0m \u001b[32m1.3/1.3 MB\u001b[0m \u001b[31m74.3 MB/s\u001b[0m eta \u001b[36m0:00:00\u001b[0m\n",
            "\u001b[?25hRequirement already satisfied: tqdm>=4.27 in /usr/local/lib/python3.10/dist-packages (from transformers) (4.66.1)\n",
            "Requirement already satisfied: fsspec in /usr/local/lib/python3.10/dist-packages (from huggingface-hub<1.0,>=0.16.4->transformers) (2023.6.0)\n",
            "Requirement already satisfied: typing-extensions>=3.7.4.3 in /usr/local/lib/python3.10/dist-packages (from huggingface-hub<1.0,>=0.16.4->transformers) (4.5.0)\n",
            "Collecting huggingface-hub<1.0,>=0.16.4 (from transformers)\n",
            "  Downloading huggingface_hub-0.16.4-py3-none-any.whl (268 kB)\n",
            "\u001b[2K     \u001b[90m━━━━━━━━━━━━━━━━━━━━━━━━━━━━━━━━━━━━━━\u001b[0m \u001b[32m268.8/268.8 kB\u001b[0m \u001b[31m28.7 MB/s\u001b[0m eta \u001b[36m0:00:00\u001b[0m\n",
            "\u001b[?25hRequirement already satisfied: charset-normalizer<4,>=2 in /usr/local/lib/python3.10/dist-packages (from requests->transformers) (3.3.0)\n",
            "Requirement already satisfied: idna<4,>=2.5 in /usr/local/lib/python3.10/dist-packages (from requests->transformers) (3.4)\n",
            "Requirement already satisfied: urllib3<3,>=1.21.1 in /usr/local/lib/python3.10/dist-packages (from requests->transformers) (2.0.6)\n",
            "Requirement already satisfied: certifi>=2017.4.17 in /usr/local/lib/python3.10/dist-packages (from requests->transformers) (2023.7.22)\n",
            "Installing collected packages: safetensors, huggingface-hub, tokenizers, transformers\n",
            "Successfully installed huggingface-hub-0.16.4 safetensors-0.3.3 tokenizers-0.14.0 transformers-4.34.0\n"
          ]
        }
      ],
      "source": [
        "!pip install transformers\n"
      ]
    },
    {
      "cell_type": "code",
      "execution_count": 11,
      "metadata": {
        "id": "eOx9WXlkYJW0"
      },
      "outputs": [],
      "source": [
        "import pandas as pd\n",
        "import numpy as np\n",
        "import torch\n",
        "from torch.utils.data import TensorDataset, DataLoader, RandomSampler, SequentialSampler\n",
        "from transformers import BertTokenizer, BertForSequenceClassification, AdamW, get_linear_schedule_with_warmup\n",
        "from sklearn.model_selection import train_test_split\n",
        "from sklearn.metrics import f1_score, accuracy_score\n"
      ]
    },
    {
      "cell_type": "code",
      "execution_count": null,
      "metadata": {
        "id": "P1znUssmbBRi"
      },
      "outputs": [],
      "source": [
        "# Load the data into a Pandas dataframe.\n",
        "df_content = pd.read_csv('train_bodies.csv')\n",
        "df_headline = pd.read_csv('train_stances.csv')\n"
      ]
    },
    {
      "cell_type": "code",
      "execution_count": null,
      "metadata": {
        "id": "Npez6SYLbfq9"
      },
      "outputs": [],
      "source": [
        "df = pd.merge(df_content, df_headline, on=\"Body ID\")"
      ]
    },
    {
      "cell_type": "code",
      "execution_count": null,
      "metadata": {
        "colab": {
          "base_uri": "https://localhost:8080/",
          "height": 659
        },
        "id": "ljgqsidsbsRE",
        "outputId": "e65a1a0e-db35-4409-8b06-21c28dfee07f"
      },
      "outputs": [
        {
          "data": {
            "text/html": [
              "\n",
              "  <div id=\"df-365a514d-67ff-448d-9c6b-aede563ada11\">\n",
              "    <div class=\"colab-df-container\">\n",
              "      <div>\n",
              "<style scoped>\n",
              "    .dataframe tbody tr th:only-of-type {\n",
              "        vertical-align: middle;\n",
              "    }\n",
              "\n",
              "    .dataframe tbody tr th {\n",
              "        vertical-align: top;\n",
              "    }\n",
              "\n",
              "    .dataframe thead th {\n",
              "        text-align: right;\n",
              "    }\n",
              "</style>\n",
              "<table border=\"1\" class=\"dataframe\">\n",
              "  <thead>\n",
              "    <tr style=\"text-align: right;\">\n",
              "      <th></th>\n",
              "      <th>Body ID</th>\n",
              "      <th>articleBody</th>\n",
              "      <th>Headline</th>\n",
              "      <th>Stance</th>\n",
              "    </tr>\n",
              "  </thead>\n",
              "  <tbody>\n",
              "    <tr>\n",
              "      <th>0</th>\n",
              "      <td>0</td>\n",
              "      <td>A small meteorite crashed into a wooded area i...</td>\n",
              "      <td>Soldier shot, Parliament locked down after gun...</td>\n",
              "      <td>unrelated</td>\n",
              "    </tr>\n",
              "    <tr>\n",
              "      <th>1</th>\n",
              "      <td>0</td>\n",
              "      <td>A small meteorite crashed into a wooded area i...</td>\n",
              "      <td>Tourist dubbed ‘Spider Man’ after spider burro...</td>\n",
              "      <td>unrelated</td>\n",
              "    </tr>\n",
              "    <tr>\n",
              "      <th>2</th>\n",
              "      <td>0</td>\n",
              "      <td>A small meteorite crashed into a wooded area i...</td>\n",
              "      <td>Luke Somers 'killed in failed rescue attempt i...</td>\n",
              "      <td>unrelated</td>\n",
              "    </tr>\n",
              "    <tr>\n",
              "      <th>3</th>\n",
              "      <td>0</td>\n",
              "      <td>A small meteorite crashed into a wooded area i...</td>\n",
              "      <td>BREAKING: Soldier shot at War Memorial in Ottawa</td>\n",
              "      <td>unrelated</td>\n",
              "    </tr>\n",
              "    <tr>\n",
              "      <th>4</th>\n",
              "      <td>0</td>\n",
              "      <td>A small meteorite crashed into a wooded area i...</td>\n",
              "      <td>Giant 8ft 9in catfish weighing 19 stone caught...</td>\n",
              "      <td>unrelated</td>\n",
              "    </tr>\n",
              "    <tr>\n",
              "      <th>...</th>\n",
              "      <td>...</td>\n",
              "      <td>...</td>\n",
              "      <td>...</td>\n",
              "      <td>...</td>\n",
              "    </tr>\n",
              "    <tr>\n",
              "      <th>49967</th>\n",
              "      <td>2532</td>\n",
              "      <td>ANN ARBOR, Mich. – A pizza delivery man in Mic...</td>\n",
              "      <td>Pizza delivery man gets tipped more than $2,00...</td>\n",
              "      <td>agree</td>\n",
              "    </tr>\n",
              "    <tr>\n",
              "      <th>49968</th>\n",
              "      <td>2532</td>\n",
              "      <td>ANN ARBOR, Mich. – A pizza delivery man in Mic...</td>\n",
              "      <td>Pizza delivery man gets $2,000 tip</td>\n",
              "      <td>agree</td>\n",
              "    </tr>\n",
              "    <tr>\n",
              "      <th>49969</th>\n",
              "      <td>2532</td>\n",
              "      <td>ANN ARBOR, Mich. – A pizza delivery man in Mic...</td>\n",
              "      <td>Luckiest Pizza Delivery Guy Ever Gets $2,000 Tip</td>\n",
              "      <td>agree</td>\n",
              "    </tr>\n",
              "    <tr>\n",
              "      <th>49970</th>\n",
              "      <td>2532</td>\n",
              "      <td>ANN ARBOR, Mich. – A pizza delivery man in Mic...</td>\n",
              "      <td>Ann Arbor pizza delivery driver surprised with...</td>\n",
              "      <td>agree</td>\n",
              "    </tr>\n",
              "    <tr>\n",
              "      <th>49971</th>\n",
              "      <td>2532</td>\n",
              "      <td>ANN ARBOR, Mich. – A pizza delivery man in Mic...</td>\n",
              "      <td>Ann Arbor pizza delivery driver surprised with...</td>\n",
              "      <td>agree</td>\n",
              "    </tr>\n",
              "  </tbody>\n",
              "</table>\n",
              "<p>49972 rows × 4 columns</p>\n",
              "</div>\n",
              "      <button class=\"colab-df-convert\" onclick=\"convertToInteractive('df-365a514d-67ff-448d-9c6b-aede563ada11')\"\n",
              "              title=\"Convert this dataframe to an interactive table.\"\n",
              "              style=\"display:none;\">\n",
              "        \n",
              "  <svg xmlns=\"http://www.w3.org/2000/svg\" height=\"24px\"viewBox=\"0 0 24 24\"\n",
              "       width=\"24px\">\n",
              "    <path d=\"M0 0h24v24H0V0z\" fill=\"none\"/>\n",
              "    <path d=\"M18.56 5.44l.94 2.06.94-2.06 2.06-.94-2.06-.94-.94-2.06-.94 2.06-2.06.94zm-11 1L8.5 8.5l.94-2.06 2.06-.94-2.06-.94L8.5 2.5l-.94 2.06-2.06.94zm10 10l.94 2.06.94-2.06 2.06-.94-2.06-.94-.94-2.06-.94 2.06-2.06.94z\"/><path d=\"M17.41 7.96l-1.37-1.37c-.4-.4-.92-.59-1.43-.59-.52 0-1.04.2-1.43.59L10.3 9.45l-7.72 7.72c-.78.78-.78 2.05 0 2.83L4 21.41c.39.39.9.59 1.41.59.51 0 1.02-.2 1.41-.59l7.78-7.78 2.81-2.81c.8-.78.8-2.07 0-2.86zM5.41 20L4 18.59l7.72-7.72 1.47 1.35L5.41 20z\"/>\n",
              "  </svg>\n",
              "      </button>\n",
              "      \n",
              "  <style>\n",
              "    .colab-df-container {\n",
              "      display:flex;\n",
              "      flex-wrap:wrap;\n",
              "      gap: 12px;\n",
              "    }\n",
              "\n",
              "    .colab-df-convert {\n",
              "      background-color: #E8F0FE;\n",
              "      border: none;\n",
              "      border-radius: 50%;\n",
              "      cursor: pointer;\n",
              "      display: none;\n",
              "      fill: #1967D2;\n",
              "      height: 32px;\n",
              "      padding: 0 0 0 0;\n",
              "      width: 32px;\n",
              "    }\n",
              "\n",
              "    .colab-df-convert:hover {\n",
              "      background-color: #E2EBFA;\n",
              "      box-shadow: 0px 1px 2px rgba(60, 64, 67, 0.3), 0px 1px 3px 1px rgba(60, 64, 67, 0.15);\n",
              "      fill: #174EA6;\n",
              "    }\n",
              "\n",
              "    [theme=dark] .colab-df-convert {\n",
              "      background-color: #3B4455;\n",
              "      fill: #D2E3FC;\n",
              "    }\n",
              "\n",
              "    [theme=dark] .colab-df-convert:hover {\n",
              "      background-color: #434B5C;\n",
              "      box-shadow: 0px 1px 3px 1px rgba(0, 0, 0, 0.15);\n",
              "      filter: drop-shadow(0px 1px 2px rgba(0, 0, 0, 0.3));\n",
              "      fill: #FFFFFF;\n",
              "    }\n",
              "  </style>\n",
              "\n",
              "      <script>\n",
              "        const buttonEl =\n",
              "          document.querySelector('#df-365a514d-67ff-448d-9c6b-aede563ada11 button.colab-df-convert');\n",
              "        buttonEl.style.display =\n",
              "          google.colab.kernel.accessAllowed ? 'block' : 'none';\n",
              "\n",
              "        async function convertToInteractive(key) {\n",
              "          const element = document.querySelector('#df-365a514d-67ff-448d-9c6b-aede563ada11');\n",
              "          const dataTable =\n",
              "            await google.colab.kernel.invokeFunction('convertToInteractive',\n",
              "                                                     [key], {});\n",
              "          if (!dataTable) return;\n",
              "\n",
              "          const docLinkHtml = 'Like what you see? Visit the ' +\n",
              "            '<a target=\"_blank\" href=https://colab.research.google.com/notebooks/data_table.ipynb>data table notebook</a>'\n",
              "            + ' to learn more about interactive tables.';\n",
              "          element.innerHTML = '';\n",
              "          dataTable['output_type'] = 'display_data';\n",
              "          await google.colab.output.renderOutput(dataTable, element);\n",
              "          const docLink = document.createElement('div');\n",
              "          docLink.innerHTML = docLinkHtml;\n",
              "          element.appendChild(docLink);\n",
              "        }\n",
              "      </script>\n",
              "    </div>\n",
              "  </div>\n",
              "  "
            ],
            "text/plain": [
              "       Body ID                                        articleBody  \\\n",
              "0            0  A small meteorite crashed into a wooded area i...   \n",
              "1            0  A small meteorite crashed into a wooded area i...   \n",
              "2            0  A small meteorite crashed into a wooded area i...   \n",
              "3            0  A small meteorite crashed into a wooded area i...   \n",
              "4            0  A small meteorite crashed into a wooded area i...   \n",
              "...        ...                                                ...   \n",
              "49967     2532  ANN ARBOR, Mich. – A pizza delivery man in Mic...   \n",
              "49968     2532  ANN ARBOR, Mich. – A pizza delivery man in Mic...   \n",
              "49969     2532  ANN ARBOR, Mich. – A pizza delivery man in Mic...   \n",
              "49970     2532  ANN ARBOR, Mich. – A pizza delivery man in Mic...   \n",
              "49971     2532  ANN ARBOR, Mich. – A pizza delivery man in Mic...   \n",
              "\n",
              "                                                Headline     Stance  \n",
              "0      Soldier shot, Parliament locked down after gun...  unrelated  \n",
              "1      Tourist dubbed ‘Spider Man’ after spider burro...  unrelated  \n",
              "2      Luke Somers 'killed in failed rescue attempt i...  unrelated  \n",
              "3       BREAKING: Soldier shot at War Memorial in Ottawa  unrelated  \n",
              "4      Giant 8ft 9in catfish weighing 19 stone caught...  unrelated  \n",
              "...                                                  ...        ...  \n",
              "49967  Pizza delivery man gets tipped more than $2,00...      agree  \n",
              "49968                 Pizza delivery man gets $2,000 tip      agree  \n",
              "49969   Luckiest Pizza Delivery Guy Ever Gets $2,000 Tip      agree  \n",
              "49970  Ann Arbor pizza delivery driver surprised with...      agree  \n",
              "49971  Ann Arbor pizza delivery driver surprised with...      agree  \n",
              "\n",
              "[49972 rows x 4 columns]"
            ]
          },
          "execution_count": 5,
          "metadata": {},
          "output_type": "execute_result"
        }
      ],
      "source": [
        "df"
      ]
    },
    {
      "cell_type": "code",
      "execution_count": null,
      "metadata": {
        "colab": {
          "base_uri": "https://localhost:8080/",
          "height": 641
        },
        "id": "EPckc0LJcfwY",
        "outputId": "2560532a-007d-4db1-e1a6-131cb05896de"
      },
      "outputs": [
        {
          "data": {
            "text/html": [
              "\n",
              "  <div id=\"df-7fd4f702-e2b8-4ec6-8b55-068c81a3ef99\">\n",
              "    <div class=\"colab-df-container\">\n",
              "      <div>\n",
              "<style scoped>\n",
              "    .dataframe tbody tr th:only-of-type {\n",
              "        vertical-align: middle;\n",
              "    }\n",
              "\n",
              "    .dataframe tbody tr th {\n",
              "        vertical-align: top;\n",
              "    }\n",
              "\n",
              "    .dataframe thead th {\n",
              "        text-align: right;\n",
              "    }\n",
              "</style>\n",
              "<table border=\"1\" class=\"dataframe\">\n",
              "  <thead>\n",
              "    <tr style=\"text-align: right;\">\n",
              "      <th></th>\n",
              "      <th>articleBody</th>\n",
              "      <th>Headline</th>\n",
              "    </tr>\n",
              "  </thead>\n",
              "  <tbody>\n",
              "    <tr>\n",
              "      <th>0</th>\n",
              "      <td>A small meteorite crashed into a wooded area i...</td>\n",
              "      <td>Soldier shot, Parliament locked down after gun...</td>\n",
              "    </tr>\n",
              "    <tr>\n",
              "      <th>1</th>\n",
              "      <td>A small meteorite crashed into a wooded area i...</td>\n",
              "      <td>Tourist dubbed ‘Spider Man’ after spider burro...</td>\n",
              "    </tr>\n",
              "    <tr>\n",
              "      <th>2</th>\n",
              "      <td>A small meteorite crashed into a wooded area i...</td>\n",
              "      <td>Luke Somers 'killed in failed rescue attempt i...</td>\n",
              "    </tr>\n",
              "    <tr>\n",
              "      <th>3</th>\n",
              "      <td>A small meteorite crashed into a wooded area i...</td>\n",
              "      <td>BREAKING: Soldier shot at War Memorial in Ottawa</td>\n",
              "    </tr>\n",
              "    <tr>\n",
              "      <th>4</th>\n",
              "      <td>A small meteorite crashed into a wooded area i...</td>\n",
              "      <td>Giant 8ft 9in catfish weighing 19 stone caught...</td>\n",
              "    </tr>\n",
              "    <tr>\n",
              "      <th>...</th>\n",
              "      <td>...</td>\n",
              "      <td>...</td>\n",
              "    </tr>\n",
              "    <tr>\n",
              "      <th>49967</th>\n",
              "      <td>ANN ARBOR, Mich. – A pizza delivery man in Mic...</td>\n",
              "      <td>Pizza delivery man gets tipped more than $2,00...</td>\n",
              "    </tr>\n",
              "    <tr>\n",
              "      <th>49968</th>\n",
              "      <td>ANN ARBOR, Mich. – A pizza delivery man in Mic...</td>\n",
              "      <td>Pizza delivery man gets $2,000 tip</td>\n",
              "    </tr>\n",
              "    <tr>\n",
              "      <th>49969</th>\n",
              "      <td>ANN ARBOR, Mich. – A pizza delivery man in Mic...</td>\n",
              "      <td>Luckiest Pizza Delivery Guy Ever Gets $2,000 Tip</td>\n",
              "    </tr>\n",
              "    <tr>\n",
              "      <th>49970</th>\n",
              "      <td>ANN ARBOR, Mich. – A pizza delivery man in Mic...</td>\n",
              "      <td>Ann Arbor pizza delivery driver surprised with...</td>\n",
              "    </tr>\n",
              "    <tr>\n",
              "      <th>49971</th>\n",
              "      <td>ANN ARBOR, Mich. – A pizza delivery man in Mic...</td>\n",
              "      <td>Ann Arbor pizza delivery driver surprised with...</td>\n",
              "    </tr>\n",
              "  </tbody>\n",
              "</table>\n",
              "<p>49972 rows × 2 columns</p>\n",
              "</div>\n",
              "      <button class=\"colab-df-convert\" onclick=\"convertToInteractive('df-7fd4f702-e2b8-4ec6-8b55-068c81a3ef99')\"\n",
              "              title=\"Convert this dataframe to an interactive table.\"\n",
              "              style=\"display:none;\">\n",
              "        \n",
              "  <svg xmlns=\"http://www.w3.org/2000/svg\" height=\"24px\"viewBox=\"0 0 24 24\"\n",
              "       width=\"24px\">\n",
              "    <path d=\"M0 0h24v24H0V0z\" fill=\"none\"/>\n",
              "    <path d=\"M18.56 5.44l.94 2.06.94-2.06 2.06-.94-2.06-.94-.94-2.06-.94 2.06-2.06.94zm-11 1L8.5 8.5l.94-2.06 2.06-.94-2.06-.94L8.5 2.5l-.94 2.06-2.06.94zm10 10l.94 2.06.94-2.06 2.06-.94-2.06-.94-.94-2.06-.94 2.06-2.06.94z\"/><path d=\"M17.41 7.96l-1.37-1.37c-.4-.4-.92-.59-1.43-.59-.52 0-1.04.2-1.43.59L10.3 9.45l-7.72 7.72c-.78.78-.78 2.05 0 2.83L4 21.41c.39.39.9.59 1.41.59.51 0 1.02-.2 1.41-.59l7.78-7.78 2.81-2.81c.8-.78.8-2.07 0-2.86zM5.41 20L4 18.59l7.72-7.72 1.47 1.35L5.41 20z\"/>\n",
              "  </svg>\n",
              "      </button>\n",
              "      \n",
              "  <style>\n",
              "    .colab-df-container {\n",
              "      display:flex;\n",
              "      flex-wrap:wrap;\n",
              "      gap: 12px;\n",
              "    }\n",
              "\n",
              "    .colab-df-convert {\n",
              "      background-color: #E8F0FE;\n",
              "      border: none;\n",
              "      border-radius: 50%;\n",
              "      cursor: pointer;\n",
              "      display: none;\n",
              "      fill: #1967D2;\n",
              "      height: 32px;\n",
              "      padding: 0 0 0 0;\n",
              "      width: 32px;\n",
              "    }\n",
              "\n",
              "    .colab-df-convert:hover {\n",
              "      background-color: #E2EBFA;\n",
              "      box-shadow: 0px 1px 2px rgba(60, 64, 67, 0.3), 0px 1px 3px 1px rgba(60, 64, 67, 0.15);\n",
              "      fill: #174EA6;\n",
              "    }\n",
              "\n",
              "    [theme=dark] .colab-df-convert {\n",
              "      background-color: #3B4455;\n",
              "      fill: #D2E3FC;\n",
              "    }\n",
              "\n",
              "    [theme=dark] .colab-df-convert:hover {\n",
              "      background-color: #434B5C;\n",
              "      box-shadow: 0px 1px 3px 1px rgba(0, 0, 0, 0.15);\n",
              "      filter: drop-shadow(0px 1px 2px rgba(0, 0, 0, 0.3));\n",
              "      fill: #FFFFFF;\n",
              "    }\n",
              "  </style>\n",
              "\n",
              "      <script>\n",
              "        const buttonEl =\n",
              "          document.querySelector('#df-7fd4f702-e2b8-4ec6-8b55-068c81a3ef99 button.colab-df-convert');\n",
              "        buttonEl.style.display =\n",
              "          google.colab.kernel.accessAllowed ? 'block' : 'none';\n",
              "\n",
              "        async function convertToInteractive(key) {\n",
              "          const element = document.querySelector('#df-7fd4f702-e2b8-4ec6-8b55-068c81a3ef99');\n",
              "          const dataTable =\n",
              "            await google.colab.kernel.invokeFunction('convertToInteractive',\n",
              "                                                     [key], {});\n",
              "          if (!dataTable) return;\n",
              "\n",
              "          const docLinkHtml = 'Like what you see? Visit the ' +\n",
              "            '<a target=\"_blank\" href=https://colab.research.google.com/notebooks/data_table.ipynb>data table notebook</a>'\n",
              "            + ' to learn more about interactive tables.';\n",
              "          element.innerHTML = '';\n",
              "          dataTable['output_type'] = 'display_data';\n",
              "          await google.colab.output.renderOutput(dataTable, element);\n",
              "          const docLink = document.createElement('div');\n",
              "          docLink.innerHTML = docLinkHtml;\n",
              "          element.appendChild(docLink);\n",
              "        }\n",
              "      </script>\n",
              "    </div>\n",
              "  </div>\n",
              "  "
            ],
            "text/plain": [
              "                                             articleBody  \\\n",
              "0      A small meteorite crashed into a wooded area i...   \n",
              "1      A small meteorite crashed into a wooded area i...   \n",
              "2      A small meteorite crashed into a wooded area i...   \n",
              "3      A small meteorite crashed into a wooded area i...   \n",
              "4      A small meteorite crashed into a wooded area i...   \n",
              "...                                                  ...   \n",
              "49967  ANN ARBOR, Mich. – A pizza delivery man in Mic...   \n",
              "49968  ANN ARBOR, Mich. – A pizza delivery man in Mic...   \n",
              "49969  ANN ARBOR, Mich. – A pizza delivery man in Mic...   \n",
              "49970  ANN ARBOR, Mich. – A pizza delivery man in Mic...   \n",
              "49971  ANN ARBOR, Mich. – A pizza delivery man in Mic...   \n",
              "\n",
              "                                                Headline  \n",
              "0      Soldier shot, Parliament locked down after gun...  \n",
              "1      Tourist dubbed ‘Spider Man’ after spider burro...  \n",
              "2      Luke Somers 'killed in failed rescue attempt i...  \n",
              "3       BREAKING: Soldier shot at War Memorial in Ottawa  \n",
              "4      Giant 8ft 9in catfish weighing 19 stone caught...  \n",
              "...                                                  ...  \n",
              "49967  Pizza delivery man gets tipped more than $2,00...  \n",
              "49968                 Pizza delivery man gets $2,000 tip  \n",
              "49969   Luckiest Pizza Delivery Guy Ever Gets $2,000 Tip  \n",
              "49970  Ann Arbor pizza delivery driver surprised with...  \n",
              "49971  Ann Arbor pizza delivery driver surprised with...  \n",
              "\n",
              "[49972 rows x 2 columns]"
            ]
          },
          "execution_count": 6,
          "metadata": {},
          "output_type": "execute_result"
        }
      ],
      "source": [
        "feature = df[['articleBody', 'Headline']]\n",
        "feature"
      ]
    },
    {
      "cell_type": "code",
      "execution_count": null,
      "metadata": {
        "id": "bWVtXPhliosk"
      },
      "outputs": [],
      "source": [
        "data_classes = [\"unrelated\", \"discuss\",\"disagree\",\"agree\"]\n",
        "label = df['Stance'].apply(data_classes.index)"
      ]
    },
    {
      "cell_type": "code",
      "execution_count": null,
      "metadata": {
        "id": "sYn5wkRvHFJf"
      },
      "outputs": [],
      "source": [
        "#Test datasset\n",
        "# Load the data into a Pandas dataframe.\n",
        "df_content_test = pd.read_csv('test_bodies.csv')\n",
        "df_headline_test = pd.read_csv('true_test_stances.csv')\n",
        "\n",
        "df_test = pd.merge(df_content_test, df_headline_test, on=\"Body ID\")\n",
        "\n",
        "feature_test = df_test[['articleBody', 'Headline']]\n",
        "\n",
        "data_classes_test = [\"unrelated\", \"discuss\",\"disagree\",\"agree\"]\n",
        "labels_test = df_test['Stance'].apply(data_classes_test.index)\n"
      ]
    },
    {
      "cell_type": "code",
      "execution_count": null,
      "metadata": {
        "id": "wK6V3bmnYMh0"
      },
      "outputs": [],
      "source": [
        "# Split the data into train and test sets.\n",
        "train_text, val_text, train_labels, val_labels = train_test_split(feature.iloc[:40000], label.iloc[:40000], test_size=0.2, random_state=42)\n",
        "\n",
        "# Load the BERT tokenizer.\n",
        "tokenizer = BertTokenizer.from_pretrained('bert-base-uncased', do_lower_case=True)\n",
        "\n",
        "# Tokenize the text inputs.\n",
        "train_tokens = tokenizer.batch_encode_plus(\n",
        "    train_text.values.tolist(),\n",
        "    max_length = 512,\n",
        "    padding=True,\n",
        "    truncation=True\n",
        ")\n",
        "\n",
        "test_tokens = tokenizer.batch_encode_plus(\n",
        "    feature_test.values.tolist(),\n",
        "    max_length = 512,\n",
        "    padding=True,\n",
        "    truncation=True\n",
        ")\n",
        "\n",
        "# Convert the tokenized inputs to PyTorch tensors.\n",
        "train_seq = torch.tensor(train_tokens['input_ids'])\n",
        "train_mask = torch.tensor(train_tokens['attention_mask'])\n",
        "train_y = torch.tensor(train_labels.tolist())\n",
        "\n",
        "test_seq = torch.tensor(test_tokens['input_ids'])\n",
        "test_mask = torch.tensor(test_tokens['attention_mask'])\n",
        "test_y = torch.tensor(labels_test.values.tolist())\n",
        "\n",
        "# Create a DataLoader for our training set.\n",
        "train_data = TensorDataset(train_seq, train_mask, train_y)\n",
        "train_sampler = RandomSampler(train_data)\n",
        "train_dataloader = DataLoader(train_data, sampler=train_sampler, batch_size=16)\n",
        "\n",
        "# Create a DataLoader for our test set.\n",
        "test_data = TensorDataset(test_seq, test_mask, test_y)\n",
        "test_sampler = SequentialSampler(test_data)\n",
        "test_dataloader = DataLoader(test_data, sampler=test_sampler, batch_size=16)\n"
      ]
    },
    {
      "cell_type": "code",
      "execution_count": null,
      "metadata": {
        "colab": {
          "base_uri": "https://localhost:8080/",
          "referenced_widgets": [
            "e1406284afa742289a8322432e0c99da"
          ]
        },
        "id": "ipwnT_p-YVe-",
        "outputId": "5315d6a9-a5e2-475c-f5bb-683216775825"
      },
      "outputs": [
        {
          "data": {
            "application/vnd.jupyter.widget-view+json": {
              "model_id": "e1406284afa742289a8322432e0c99da",
              "version_major": 2,
              "version_minor": 0
            },
            "text/plain": [
              "Downloading pytorch_model.bin:   0%|          | 0.00/440M [00:00<?, ?B/s]"
            ]
          },
          "metadata": {},
          "output_type": "display_data"
        },
        {
          "name": "stderr",
          "output_type": "stream",
          "text": [
            "Some weights of the model checkpoint at bert-base-uncased were not used when initializing BertForSequenceClassification: ['cls.predictions.decoder.weight', 'cls.predictions.transform.dense.bias', 'cls.predictions.transform.dense.weight', 'cls.seq_relationship.bias', 'cls.predictions.transform.LayerNorm.weight', 'cls.seq_relationship.weight', 'cls.predictions.bias', 'cls.predictions.transform.LayerNorm.bias']\n",
            "- This IS expected if you are initializing BertForSequenceClassification from the checkpoint of a model trained on another task or with another architecture (e.g. initializing a BertForSequenceClassification model from a BertForPreTraining model).\n",
            "- This IS NOT expected if you are initializing BertForSequenceClassification from the checkpoint of a model that you expect to be exactly identical (initializing a BertForSequenceClassification model from a BertForSequenceClassification model).\n",
            "Some weights of BertForSequenceClassification were not initialized from the model checkpoint at bert-base-uncased and are newly initialized: ['classifier.bias', 'classifier.weight']\n",
            "You should probably TRAIN this model on a down-stream task to be able to use it for predictions and inference.\n",
            "/usr/local/lib/python3.9/dist-packages/transformers/optimization.py:391: FutureWarning: This implementation of AdamW is deprecated and will be removed in a future version. Use the PyTorch implementation torch.optim.AdamW instead, or set `no_deprecation_warning=True` to disable this warning\n",
            "  warnings.warn(\n"
          ]
        }
      ],
      "source": [
        "# Load the pre-trained BERT model for sequence classification.\n",
        "model = BertForSequenceClassification.from_pretrained(\n",
        "    'bert-base-uncased',\n",
        "    num_labels = 4,\n",
        "    output_attentions = False,\n",
        "    output_hidden_states = False\n",
        ")\n",
        "\n",
        "# Define the optimizer and learning rate scheduler.\n",
        "optimizer = AdamW(model.parameters(), lr=2e-5, eps=1e-8)\n",
        "\n",
        "epochs = 3\n",
        "total_steps = len(train_dataloader) * epochs\n",
        "\n",
        "scheduler = get_linear_schedule_with_warmup(\n",
        "    optimizer,\n",
        "    num_warmup_steps = 0,\n",
        "    num_training_steps = total_steps\n",
        ")\n"
      ]
    },
    {
      "cell_type": "code",
      "execution_count": null,
      "metadata": {
        "colab": {
          "base_uri": "https://localhost:8080/"
        },
        "id": "MGINujBN63YH",
        "outputId": "7b053562-01fa-4123-ca16-c69d449c5371"
      },
      "outputs": [
        {
          "name": "stdout",
          "output_type": "stream",
          "text": [
            "Sun Apr 16 21:53:33 2023       \n",
            "+-----------------------------------------------------------------------------+\n",
            "| NVIDIA-SMI 525.85.12    Driver Version: 525.85.12    CUDA Version: 12.0     |\n",
            "|-------------------------------+----------------------+----------------------+\n",
            "| GPU  Name        Persistence-M| Bus-Id        Disp.A | Volatile Uncorr. ECC |\n",
            "| Fan  Temp  Perf  Pwr:Usage/Cap|         Memory-Usage | GPU-Util  Compute M. |\n",
            "|                               |                      |               MIG M. |\n",
            "|===============================+======================+======================|\n",
            "|   0  Tesla T4            Off  | 00000000:00:04.0 Off |                    0 |\n",
            "| N/A   38C    P8     9W /  70W |      0MiB / 15360MiB |      0%      Default |\n",
            "|                               |                      |                  N/A |\n",
            "+-------------------------------+----------------------+----------------------+\n",
            "                                                                               \n",
            "+-----------------------------------------------------------------------------+\n",
            "| Processes:                                                                  |\n",
            "|  GPU   GI   CI        PID   Type   Process name                  GPU Memory |\n",
            "|        ID   ID                                                   Usage      |\n",
            "|=============================================================================|\n",
            "|  No running processes found                                                 |\n",
            "+-----------------------------------------------------------------------------+\n"
          ]
        }
      ],
      "source": [
        "!nvidia-smi"
      ]
    },
    {
      "cell_type": "code",
      "execution_count": null,
      "metadata": {
        "colab": {
          "base_uri": "https://localhost:8080/"
        },
        "id": "0KVdWKMj7HfH",
        "outputId": "ede8ec4e-7c59-4565-ac3e-a5fb66592336"
      },
      "outputs": [
        {
          "data": {
            "text/plain": [
              "True"
            ]
          },
          "execution_count": 12,
          "metadata": {},
          "output_type": "execute_result"
        }
      ],
      "source": [
        "import torch\n",
        "torch.cuda.is_available()"
      ]
    },
    {
      "cell_type": "code",
      "execution_count": null,
      "metadata": {
        "colab": {
          "base_uri": "https://localhost:8080/"
        },
        "id": "_2fEeBJkYX03",
        "outputId": "85469418-e4cc-4434-81c8-04b1fba0a0bc"
      },
      "outputs": [
        {
          "name": "stdout",
          "output_type": "stream",
          "text": [
            "\n",
            "Epoch 1/3\n",
            "----------\n",
            "Average loss: 0.28\n",
            "\n",
            "Epoch 2/3\n",
            "----------\n",
            "Average loss: 0.11\n",
            "\n",
            "Epoch 3/3\n",
            "----------\n",
            "Average loss: 0.05\n"
          ]
        }
      ],
      "source": [
        "device = torch.device('cuda') if torch.cuda.is_available() else torch.device('cpu')\n",
        "\n",
        "# Set the model to the device (GPU or CPU).\n",
        "model.to(device)\n",
        "\n",
        "# Train the model.\n",
        "for epoch in range(epochs):\n",
        "    print('\\nEpoch {}/{}'.format(epoch + 1, epochs))\n",
        "    print('-' * 10)\n",
        "\n",
        "    # Set the model to training mode.\n",
        "    model.train()\n",
        "\n",
        "    total_loss = 0\n",
        "\n",
        "    for step, batch in enumerate(train_dataloader):\n",
        "        # Unpack the batch.\n",
        "        batch_seq, batch_mask, batch_y = batch\n",
        "\n",
        "        # Set the batch to the device.\n",
        "        batch_seq = batch_seq.to(device)\n",
        "        batch_mask = batch_mask.to(device)\n",
        "        batch_y = batch_y.to(device)\n",
        "\n",
        "        # Zero out any gradients.\n",
        "        model.zero_grad()\n",
        "\n",
        "        # Perform a forward pass.\n",
        "        outputs = model(batch_seq, attention_mask=batch_mask, labels=batch_y)\n",
        "        loss = outputs[0]\n",
        "        total_loss += loss.item()\n",
        "\n",
        "        # Perform a backward pass and optimize.\n",
        "        loss.backward()\n",
        "        torch.nn.utils.clip_grad_norm_(model.parameters(), 1.0)\n",
        "        optimizer.step()\n",
        "        scheduler.step()\n",
        "\n",
        "    # Calculate the average loss for this epoch.\n",
        "    avg_loss = total_loss / len(train_dataloader)\n",
        "    print('Average loss: {:.2f}'.format(avg_loss))\n",
        "\n"
      ]
    },
    {
      "cell_type": "code",
      "execution_count": null,
      "metadata": {
        "colab": {
          "base_uri": "https://localhost:8080/"
        },
        "id": "6AgAUz5t52oJ",
        "outputId": "a8534b34-3061-47ed-86f6-49eb31ea0d02"
      },
      "outputs": [
        {
          "name": "stdout",
          "output_type": "stream",
          "text": [
            "Mounted at /content/drive\n"
          ]
        }
      ],
      "source": [
        "from google.colab import drive\n",
        "drive.mount('/content/drive')"
      ]
    },
    {
      "cell_type": "code",
      "execution_count": null,
      "metadata": {
        "colab": {
          "base_uri": "https://localhost:8080/"
        },
        "id": "rhiAAcE7Ynhq",
        "outputId": "c0be6867-6d88-4b98-ee5a-f2f86e3dd373"
      },
      "outputs": [
        {
          "name": "stdout",
          "output_type": "stream",
          "text": [
            "F1 score: 0.90\n",
            "Accuracy: 0.91\n"
          ]
        }
      ],
      "source": [
        "#Finally, we'll evaluate the model on the test set:\n",
        "\n",
        "# Set the model to evaluation mode.\n",
        "model.eval()\n",
        "\n",
        "# Create lists to store the predictions and true labels.\n",
        "preds = []\n",
        "true_labels = []\n",
        "\n",
        "# Evaluate the model on the test set.\n",
        "for batch in test_dataloader:\n",
        "    # Unpack the batch.\n",
        "    batch_seq, batch_mask, batch_y = batch\n",
        "\n",
        "    # Set the batch to the device.\n",
        "    batch_seq = batch_seq.to(device)\n",
        "    batch_mask = batch_mask.to(device)\n",
        "    batch_y = batch_y.to(device)\n",
        "\n",
        "    # Disable gradient calculations.\n",
        "    with torch.no_grad():\n",
        "        # Perform a forward pass.\n",
        "        outputs = model(batch_seq, attention_mask=batch_mask)\n",
        "        logits = outputs[0]\n",
        "        probs = torch.softmax(logits, dim=1)\n",
        "        preds.extend(torch.argmax(probs, dim=1).tolist())\n",
        "        true_labels.extend(batch_y.tolist())\n",
        "\n",
        "# Calculate the F1 score and accuracy on the test set.\n",
        "f1 = f1_score(true_labels, preds, average='weighted')\n",
        "acc = accuracy_score(true_labels, preds)\n",
        "\n",
        "print('F1 score: {:.2f}'.format(f1))\n",
        "print('Accuracy: {:.2f}'.format(acc))\n"
      ]
    },
    {
      "cell_type": "code",
      "execution_count": null,
      "metadata": {
        "id": "8Qur-hD1pgMP"
      },
      "outputs": [],
      "source": [
        "model.save_pretrained('pretrained_model/')"
      ]
    },
    {
      "cell_type": "code",
      "execution_count": null,
      "metadata": {
        "id": "HQmOnGinV-kF"
      },
      "outputs": [],
      "source": [
        "!cp -r \"/content/pretrained_model\" \"/content/drive/MyDrive/newsforcompany_pretrain/bert\""
      ]
    },
    {
      "cell_type": "code",
      "execution_count": 12,
      "metadata": {
        "colab": {
          "base_uri": "https://localhost:8080/",
          "height": 249,
          "referenced_widgets": [
            "5799a5b0fb514f308adb0fd2cffdda74",
            "c5f00cebfc1b4728ba8184c2f00bd642",
            "9a28e03646134193b68661d675f9c4c9",
            "5ddc12210c8144219b628ccc4862950e",
            "5412d61177a544c0b6d7981b73a9197e",
            "275c97ab0990464ca4ee4e1add407fbe",
            "8606a99e63eb4840affe7dba7ba897c2",
            "4fd474caa585400eb615cd7cf211cd7f",
            "30e226899a8a4d7099d9b250652933cd",
            "5c4fed44fac14dd98482d3720e0b0e10",
            "793270d972ca4a52a17f31e48f24d358",
            "fb6f8377dc5749d7850071680a4b960f",
            "75fa9e03ffbf45fc843a5d48edd5a2ed",
            "1a7ce98fbc344151bc04e91b3ddb31d1",
            "7cf091fc4b6f4e4fbeb4a7e71e44acba",
            "79563e06097443a3ac0da9807aad5632",
            "99f4bf5108b04b8ab17863a778acdfba",
            "f2219a480ffc471dbe4754c744794ef0",
            "7f251fa424404a9aac2e295cbd81d651",
            "ddbdf8e3737d4527a106e0d1eb9f2bb3",
            "bfa37686560f4805a6fc30a892801aee",
            "205ee16d55ca4eefbb466c7af28bc9de",
            "f8b0323e586746ab9784bd0f2be59aff",
            "f3ed0e000b654adcad072e7d9cf9105b",
            "43f3c6fdfc56439885bda6271cd7cf74",
            "7fb96da8c54149999c58193707b812aa",
            "03ea3249db374dfc9209efbdc7fa5f2e",
            "ba343e99fb1949b2839816fb5d4bd8b6",
            "72efa08006e540eeb31724b7d71cbc02",
            "f95d2d6bfb1a4533afbbce62427732c5",
            "d339d061444a493a9e42377139ac0f7b",
            "2a99bc93fab04541a1c1437abd95617b",
            "d863fcfe70294eb5808b5a73bd11d317",
            "e3af78eb5c8341178f36024ce392da04",
            "c62f1d1f7f924c6a9738af80a1937f34",
            "55a53cde002c4a408c6d114b137680c8",
            "8038daef7f6f4b99a677d457f84f4fa7",
            "09059eb5404849f7a457f8a242ea1916",
            "df0d54e83e8243b9aab38ccfcf404e87",
            "fcba96dcb8ce4f6ca9c0f3c09be4e661",
            "5653cc734f1847e98054e2951c5ff062",
            "0f47cebc4d3b4936ae21ffe0876bf2de",
            "34eba14a5bd340a9a201c5697328a17b",
            "54dab0c502b644f3ba60bda1638c2af1"
          ]
        },
        "id": "WJsZAw4kaQkj",
        "outputId": "04578937-6cc1-4c5f-a8aa-c002ddf9a19c"
      },
      "outputs": [
        {
          "output_type": "display_data",
          "data": {
            "text/plain": [
              "Downloading (…)okenizer_config.json:   0%|          | 0.00/28.0 [00:00<?, ?B/s]"
            ],
            "application/vnd.jupyter.widget-view+json": {
              "version_major": 2,
              "version_minor": 0,
              "model_id": "5799a5b0fb514f308adb0fd2cffdda74"
            }
          },
          "metadata": {}
        },
        {
          "output_type": "display_data",
          "data": {
            "text/plain": [
              "Downloading (…)solve/main/vocab.txt:   0%|          | 0.00/232k [00:00<?, ?B/s]"
            ],
            "application/vnd.jupyter.widget-view+json": {
              "version_major": 2,
              "version_minor": 0,
              "model_id": "fb6f8377dc5749d7850071680a4b960f"
            }
          },
          "metadata": {}
        },
        {
          "output_type": "display_data",
          "data": {
            "text/plain": [
              "Downloading (…)/main/tokenizer.json:   0%|          | 0.00/466k [00:00<?, ?B/s]"
            ],
            "application/vnd.jupyter.widget-view+json": {
              "version_major": 2,
              "version_minor": 0,
              "model_id": "f8b0323e586746ab9784bd0f2be59aff"
            }
          },
          "metadata": {}
        },
        {
          "output_type": "display_data",
          "data": {
            "text/plain": [
              "Downloading (…)lve/main/config.json:   0%|          | 0.00/570 [00:00<?, ?B/s]"
            ],
            "application/vnd.jupyter.widget-view+json": {
              "version_major": 2,
              "version_minor": 0,
              "model_id": "e3af78eb5c8341178f36024ce392da04"
            }
          },
          "metadata": {}
        },
        {
          "output_type": "stream",
          "name": "stdout",
          "text": [
            "                                      CompanyProfile  \\\n",
            "0  Google LLC is an American multinational techno...   \n",
            "\n",
            "                                            Headline  \n",
            "0  SoftBank CEO says artificial general intellige...  \n",
            "['related_positive']\n"
          ]
        }
      ],
      "source": [
        "# Load the BERT tokenizer.\n",
        "tokenizer = BertTokenizer.from_pretrained('bert-base-uncased', do_lower_case=True)\n",
        "unique_labels = set()\n",
        "\n",
        "tester = BertForSequenceClassification.from_pretrained('/content/drive/MyDrive/newsforcompany_pretrain/bert')\n",
        "\n",
        "ids_to_labels = {0:\"unrelated\", 1:\"related_neutral\", 2:\"related_negative\", 3:\"related_positive\"}\n",
        "\n",
        "data = {'CompanyProfile':[\"Google LLC is an American multinational technology company focusing on artificial intelligence, online advertising, search engine technology, cloud computing, computer software, quantum computing, e-commerce, and consumer electronics.\"], 'Headline':[\"SoftBank CEO says artificial general intelligence will come within 10 years.\"]}\n",
        "df_one = pd.DataFrame(data)\n",
        "def evaluate_one_text(model, sentence):\n",
        "\n",
        "    use_cuda = torch.cuda.is_available()\n",
        "    device = torch.device(\"cuda\" if use_cuda else \"cpu\")\n",
        "\n",
        "    if use_cuda:\n",
        "        model = model.cuda()\n",
        "\n",
        "    text = tokenizer.batch_encode_plus(sentence.values.tolist(), padding='max_length', max_length = 512, truncation=True)\n",
        "\n",
        "    # Convert the tokenized inputs to PyTorch tensors.\n",
        "    input_id = torch.tensor(text['input_ids']).to(device)\n",
        "    mask = torch.tensor(text['attention_mask']).to(device)\n",
        "\n",
        "    logits = model(input_id, mask, None)\n",
        "    logits_clean = logits[0]\n",
        "\n",
        "    predictions = logits_clean.argmax(dim=1).tolist()\n",
        "    prediction_label = [ids_to_labels[i] for i in predictions]\n",
        "    print(sentence)\n",
        "    print(prediction_label)\n",
        "\n",
        "evaluate_one_text(tester, df_one)"
      ]
    }
  ],
  "metadata": {
    "accelerator": "GPU",
    "colab": {
      "provenance": []
    },
    "gpuClass": "standard",
    "kernelspec": {
      "display_name": "Python 3",
      "name": "python3"
    },
    "language_info": {
      "name": "python"
    },
    "widgets": {
      "application/vnd.jupyter.widget-state+json": {
        "5799a5b0fb514f308adb0fd2cffdda74": {
          "model_module": "@jupyter-widgets/controls",
          "model_name": "HBoxModel",
          "model_module_version": "1.5.0",
          "state": {
            "_dom_classes": [],
            "_model_module": "@jupyter-widgets/controls",
            "_model_module_version": "1.5.0",
            "_model_name": "HBoxModel",
            "_view_count": null,
            "_view_module": "@jupyter-widgets/controls",
            "_view_module_version": "1.5.0",
            "_view_name": "HBoxView",
            "box_style": "",
            "children": [
              "IPY_MODEL_c5f00cebfc1b4728ba8184c2f00bd642",
              "IPY_MODEL_9a28e03646134193b68661d675f9c4c9",
              "IPY_MODEL_5ddc12210c8144219b628ccc4862950e"
            ],
            "layout": "IPY_MODEL_5412d61177a544c0b6d7981b73a9197e"
          }
        },
        "c5f00cebfc1b4728ba8184c2f00bd642": {
          "model_module": "@jupyter-widgets/controls",
          "model_name": "HTMLModel",
          "model_module_version": "1.5.0",
          "state": {
            "_dom_classes": [],
            "_model_module": "@jupyter-widgets/controls",
            "_model_module_version": "1.5.0",
            "_model_name": "HTMLModel",
            "_view_count": null,
            "_view_module": "@jupyter-widgets/controls",
            "_view_module_version": "1.5.0",
            "_view_name": "HTMLView",
            "description": "",
            "description_tooltip": null,
            "layout": "IPY_MODEL_275c97ab0990464ca4ee4e1add407fbe",
            "placeholder": "​",
            "style": "IPY_MODEL_8606a99e63eb4840affe7dba7ba897c2",
            "value": "Downloading (…)okenizer_config.json: 100%"
          }
        },
        "9a28e03646134193b68661d675f9c4c9": {
          "model_module": "@jupyter-widgets/controls",
          "model_name": "FloatProgressModel",
          "model_module_version": "1.5.0",
          "state": {
            "_dom_classes": [],
            "_model_module": "@jupyter-widgets/controls",
            "_model_module_version": "1.5.0",
            "_model_name": "FloatProgressModel",
            "_view_count": null,
            "_view_module": "@jupyter-widgets/controls",
            "_view_module_version": "1.5.0",
            "_view_name": "ProgressView",
            "bar_style": "success",
            "description": "",
            "description_tooltip": null,
            "layout": "IPY_MODEL_4fd474caa585400eb615cd7cf211cd7f",
            "max": 28,
            "min": 0,
            "orientation": "horizontal",
            "style": "IPY_MODEL_30e226899a8a4d7099d9b250652933cd",
            "value": 28
          }
        },
        "5ddc12210c8144219b628ccc4862950e": {
          "model_module": "@jupyter-widgets/controls",
          "model_name": "HTMLModel",
          "model_module_version": "1.5.0",
          "state": {
            "_dom_classes": [],
            "_model_module": "@jupyter-widgets/controls",
            "_model_module_version": "1.5.0",
            "_model_name": "HTMLModel",
            "_view_count": null,
            "_view_module": "@jupyter-widgets/controls",
            "_view_module_version": "1.5.0",
            "_view_name": "HTMLView",
            "description": "",
            "description_tooltip": null,
            "layout": "IPY_MODEL_5c4fed44fac14dd98482d3720e0b0e10",
            "placeholder": "​",
            "style": "IPY_MODEL_793270d972ca4a52a17f31e48f24d358",
            "value": " 28.0/28.0 [00:00&lt;00:00, 883B/s]"
          }
        },
        "5412d61177a544c0b6d7981b73a9197e": {
          "model_module": "@jupyter-widgets/base",
          "model_name": "LayoutModel",
          "model_module_version": "1.2.0",
          "state": {
            "_model_module": "@jupyter-widgets/base",
            "_model_module_version": "1.2.0",
            "_model_name": "LayoutModel",
            "_view_count": null,
            "_view_module": "@jupyter-widgets/base",
            "_view_module_version": "1.2.0",
            "_view_name": "LayoutView",
            "align_content": null,
            "align_items": null,
            "align_self": null,
            "border": null,
            "bottom": null,
            "display": null,
            "flex": null,
            "flex_flow": null,
            "grid_area": null,
            "grid_auto_columns": null,
            "grid_auto_flow": null,
            "grid_auto_rows": null,
            "grid_column": null,
            "grid_gap": null,
            "grid_row": null,
            "grid_template_areas": null,
            "grid_template_columns": null,
            "grid_template_rows": null,
            "height": null,
            "justify_content": null,
            "justify_items": null,
            "left": null,
            "margin": null,
            "max_height": null,
            "max_width": null,
            "min_height": null,
            "min_width": null,
            "object_fit": null,
            "object_position": null,
            "order": null,
            "overflow": null,
            "overflow_x": null,
            "overflow_y": null,
            "padding": null,
            "right": null,
            "top": null,
            "visibility": null,
            "width": null
          }
        },
        "275c97ab0990464ca4ee4e1add407fbe": {
          "model_module": "@jupyter-widgets/base",
          "model_name": "LayoutModel",
          "model_module_version": "1.2.0",
          "state": {
            "_model_module": "@jupyter-widgets/base",
            "_model_module_version": "1.2.0",
            "_model_name": "LayoutModel",
            "_view_count": null,
            "_view_module": "@jupyter-widgets/base",
            "_view_module_version": "1.2.0",
            "_view_name": "LayoutView",
            "align_content": null,
            "align_items": null,
            "align_self": null,
            "border": null,
            "bottom": null,
            "display": null,
            "flex": null,
            "flex_flow": null,
            "grid_area": null,
            "grid_auto_columns": null,
            "grid_auto_flow": null,
            "grid_auto_rows": null,
            "grid_column": null,
            "grid_gap": null,
            "grid_row": null,
            "grid_template_areas": null,
            "grid_template_columns": null,
            "grid_template_rows": null,
            "height": null,
            "justify_content": null,
            "justify_items": null,
            "left": null,
            "margin": null,
            "max_height": null,
            "max_width": null,
            "min_height": null,
            "min_width": null,
            "object_fit": null,
            "object_position": null,
            "order": null,
            "overflow": null,
            "overflow_x": null,
            "overflow_y": null,
            "padding": null,
            "right": null,
            "top": null,
            "visibility": null,
            "width": null
          }
        },
        "8606a99e63eb4840affe7dba7ba897c2": {
          "model_module": "@jupyter-widgets/controls",
          "model_name": "DescriptionStyleModel",
          "model_module_version": "1.5.0",
          "state": {
            "_model_module": "@jupyter-widgets/controls",
            "_model_module_version": "1.5.0",
            "_model_name": "DescriptionStyleModel",
            "_view_count": null,
            "_view_module": "@jupyter-widgets/base",
            "_view_module_version": "1.2.0",
            "_view_name": "StyleView",
            "description_width": ""
          }
        },
        "4fd474caa585400eb615cd7cf211cd7f": {
          "model_module": "@jupyter-widgets/base",
          "model_name": "LayoutModel",
          "model_module_version": "1.2.0",
          "state": {
            "_model_module": "@jupyter-widgets/base",
            "_model_module_version": "1.2.0",
            "_model_name": "LayoutModel",
            "_view_count": null,
            "_view_module": "@jupyter-widgets/base",
            "_view_module_version": "1.2.0",
            "_view_name": "LayoutView",
            "align_content": null,
            "align_items": null,
            "align_self": null,
            "border": null,
            "bottom": null,
            "display": null,
            "flex": null,
            "flex_flow": null,
            "grid_area": null,
            "grid_auto_columns": null,
            "grid_auto_flow": null,
            "grid_auto_rows": null,
            "grid_column": null,
            "grid_gap": null,
            "grid_row": null,
            "grid_template_areas": null,
            "grid_template_columns": null,
            "grid_template_rows": null,
            "height": null,
            "justify_content": null,
            "justify_items": null,
            "left": null,
            "margin": null,
            "max_height": null,
            "max_width": null,
            "min_height": null,
            "min_width": null,
            "object_fit": null,
            "object_position": null,
            "order": null,
            "overflow": null,
            "overflow_x": null,
            "overflow_y": null,
            "padding": null,
            "right": null,
            "top": null,
            "visibility": null,
            "width": null
          }
        },
        "30e226899a8a4d7099d9b250652933cd": {
          "model_module": "@jupyter-widgets/controls",
          "model_name": "ProgressStyleModel",
          "model_module_version": "1.5.0",
          "state": {
            "_model_module": "@jupyter-widgets/controls",
            "_model_module_version": "1.5.0",
            "_model_name": "ProgressStyleModel",
            "_view_count": null,
            "_view_module": "@jupyter-widgets/base",
            "_view_module_version": "1.2.0",
            "_view_name": "StyleView",
            "bar_color": null,
            "description_width": ""
          }
        },
        "5c4fed44fac14dd98482d3720e0b0e10": {
          "model_module": "@jupyter-widgets/base",
          "model_name": "LayoutModel",
          "model_module_version": "1.2.0",
          "state": {
            "_model_module": "@jupyter-widgets/base",
            "_model_module_version": "1.2.0",
            "_model_name": "LayoutModel",
            "_view_count": null,
            "_view_module": "@jupyter-widgets/base",
            "_view_module_version": "1.2.0",
            "_view_name": "LayoutView",
            "align_content": null,
            "align_items": null,
            "align_self": null,
            "border": null,
            "bottom": null,
            "display": null,
            "flex": null,
            "flex_flow": null,
            "grid_area": null,
            "grid_auto_columns": null,
            "grid_auto_flow": null,
            "grid_auto_rows": null,
            "grid_column": null,
            "grid_gap": null,
            "grid_row": null,
            "grid_template_areas": null,
            "grid_template_columns": null,
            "grid_template_rows": null,
            "height": null,
            "justify_content": null,
            "justify_items": null,
            "left": null,
            "margin": null,
            "max_height": null,
            "max_width": null,
            "min_height": null,
            "min_width": null,
            "object_fit": null,
            "object_position": null,
            "order": null,
            "overflow": null,
            "overflow_x": null,
            "overflow_y": null,
            "padding": null,
            "right": null,
            "top": null,
            "visibility": null,
            "width": null
          }
        },
        "793270d972ca4a52a17f31e48f24d358": {
          "model_module": "@jupyter-widgets/controls",
          "model_name": "DescriptionStyleModel",
          "model_module_version": "1.5.0",
          "state": {
            "_model_module": "@jupyter-widgets/controls",
            "_model_module_version": "1.5.0",
            "_model_name": "DescriptionStyleModel",
            "_view_count": null,
            "_view_module": "@jupyter-widgets/base",
            "_view_module_version": "1.2.0",
            "_view_name": "StyleView",
            "description_width": ""
          }
        },
        "fb6f8377dc5749d7850071680a4b960f": {
          "model_module": "@jupyter-widgets/controls",
          "model_name": "HBoxModel",
          "model_module_version": "1.5.0",
          "state": {
            "_dom_classes": [],
            "_model_module": "@jupyter-widgets/controls",
            "_model_module_version": "1.5.0",
            "_model_name": "HBoxModel",
            "_view_count": null,
            "_view_module": "@jupyter-widgets/controls",
            "_view_module_version": "1.5.0",
            "_view_name": "HBoxView",
            "box_style": "",
            "children": [
              "IPY_MODEL_75fa9e03ffbf45fc843a5d48edd5a2ed",
              "IPY_MODEL_1a7ce98fbc344151bc04e91b3ddb31d1",
              "IPY_MODEL_7cf091fc4b6f4e4fbeb4a7e71e44acba"
            ],
            "layout": "IPY_MODEL_79563e06097443a3ac0da9807aad5632"
          }
        },
        "75fa9e03ffbf45fc843a5d48edd5a2ed": {
          "model_module": "@jupyter-widgets/controls",
          "model_name": "HTMLModel",
          "model_module_version": "1.5.0",
          "state": {
            "_dom_classes": [],
            "_model_module": "@jupyter-widgets/controls",
            "_model_module_version": "1.5.0",
            "_model_name": "HTMLModel",
            "_view_count": null,
            "_view_module": "@jupyter-widgets/controls",
            "_view_module_version": "1.5.0",
            "_view_name": "HTMLView",
            "description": "",
            "description_tooltip": null,
            "layout": "IPY_MODEL_99f4bf5108b04b8ab17863a778acdfba",
            "placeholder": "​",
            "style": "IPY_MODEL_f2219a480ffc471dbe4754c744794ef0",
            "value": "Downloading (…)solve/main/vocab.txt: 100%"
          }
        },
        "1a7ce98fbc344151bc04e91b3ddb31d1": {
          "model_module": "@jupyter-widgets/controls",
          "model_name": "FloatProgressModel",
          "model_module_version": "1.5.0",
          "state": {
            "_dom_classes": [],
            "_model_module": "@jupyter-widgets/controls",
            "_model_module_version": "1.5.0",
            "_model_name": "FloatProgressModel",
            "_view_count": null,
            "_view_module": "@jupyter-widgets/controls",
            "_view_module_version": "1.5.0",
            "_view_name": "ProgressView",
            "bar_style": "success",
            "description": "",
            "description_tooltip": null,
            "layout": "IPY_MODEL_7f251fa424404a9aac2e295cbd81d651",
            "max": 231508,
            "min": 0,
            "orientation": "horizontal",
            "style": "IPY_MODEL_ddbdf8e3737d4527a106e0d1eb9f2bb3",
            "value": 231508
          }
        },
        "7cf091fc4b6f4e4fbeb4a7e71e44acba": {
          "model_module": "@jupyter-widgets/controls",
          "model_name": "HTMLModel",
          "model_module_version": "1.5.0",
          "state": {
            "_dom_classes": [],
            "_model_module": "@jupyter-widgets/controls",
            "_model_module_version": "1.5.0",
            "_model_name": "HTMLModel",
            "_view_count": null,
            "_view_module": "@jupyter-widgets/controls",
            "_view_module_version": "1.5.0",
            "_view_name": "HTMLView",
            "description": "",
            "description_tooltip": null,
            "layout": "IPY_MODEL_bfa37686560f4805a6fc30a892801aee",
            "placeholder": "​",
            "style": "IPY_MODEL_205ee16d55ca4eefbb466c7af28bc9de",
            "value": " 232k/232k [00:00&lt;00:00, 3.41MB/s]"
          }
        },
        "79563e06097443a3ac0da9807aad5632": {
          "model_module": "@jupyter-widgets/base",
          "model_name": "LayoutModel",
          "model_module_version": "1.2.0",
          "state": {
            "_model_module": "@jupyter-widgets/base",
            "_model_module_version": "1.2.0",
            "_model_name": "LayoutModel",
            "_view_count": null,
            "_view_module": "@jupyter-widgets/base",
            "_view_module_version": "1.2.0",
            "_view_name": "LayoutView",
            "align_content": null,
            "align_items": null,
            "align_self": null,
            "border": null,
            "bottom": null,
            "display": null,
            "flex": null,
            "flex_flow": null,
            "grid_area": null,
            "grid_auto_columns": null,
            "grid_auto_flow": null,
            "grid_auto_rows": null,
            "grid_column": null,
            "grid_gap": null,
            "grid_row": null,
            "grid_template_areas": null,
            "grid_template_columns": null,
            "grid_template_rows": null,
            "height": null,
            "justify_content": null,
            "justify_items": null,
            "left": null,
            "margin": null,
            "max_height": null,
            "max_width": null,
            "min_height": null,
            "min_width": null,
            "object_fit": null,
            "object_position": null,
            "order": null,
            "overflow": null,
            "overflow_x": null,
            "overflow_y": null,
            "padding": null,
            "right": null,
            "top": null,
            "visibility": null,
            "width": null
          }
        },
        "99f4bf5108b04b8ab17863a778acdfba": {
          "model_module": "@jupyter-widgets/base",
          "model_name": "LayoutModel",
          "model_module_version": "1.2.0",
          "state": {
            "_model_module": "@jupyter-widgets/base",
            "_model_module_version": "1.2.0",
            "_model_name": "LayoutModel",
            "_view_count": null,
            "_view_module": "@jupyter-widgets/base",
            "_view_module_version": "1.2.0",
            "_view_name": "LayoutView",
            "align_content": null,
            "align_items": null,
            "align_self": null,
            "border": null,
            "bottom": null,
            "display": null,
            "flex": null,
            "flex_flow": null,
            "grid_area": null,
            "grid_auto_columns": null,
            "grid_auto_flow": null,
            "grid_auto_rows": null,
            "grid_column": null,
            "grid_gap": null,
            "grid_row": null,
            "grid_template_areas": null,
            "grid_template_columns": null,
            "grid_template_rows": null,
            "height": null,
            "justify_content": null,
            "justify_items": null,
            "left": null,
            "margin": null,
            "max_height": null,
            "max_width": null,
            "min_height": null,
            "min_width": null,
            "object_fit": null,
            "object_position": null,
            "order": null,
            "overflow": null,
            "overflow_x": null,
            "overflow_y": null,
            "padding": null,
            "right": null,
            "top": null,
            "visibility": null,
            "width": null
          }
        },
        "f2219a480ffc471dbe4754c744794ef0": {
          "model_module": "@jupyter-widgets/controls",
          "model_name": "DescriptionStyleModel",
          "model_module_version": "1.5.0",
          "state": {
            "_model_module": "@jupyter-widgets/controls",
            "_model_module_version": "1.5.0",
            "_model_name": "DescriptionStyleModel",
            "_view_count": null,
            "_view_module": "@jupyter-widgets/base",
            "_view_module_version": "1.2.0",
            "_view_name": "StyleView",
            "description_width": ""
          }
        },
        "7f251fa424404a9aac2e295cbd81d651": {
          "model_module": "@jupyter-widgets/base",
          "model_name": "LayoutModel",
          "model_module_version": "1.2.0",
          "state": {
            "_model_module": "@jupyter-widgets/base",
            "_model_module_version": "1.2.0",
            "_model_name": "LayoutModel",
            "_view_count": null,
            "_view_module": "@jupyter-widgets/base",
            "_view_module_version": "1.2.0",
            "_view_name": "LayoutView",
            "align_content": null,
            "align_items": null,
            "align_self": null,
            "border": null,
            "bottom": null,
            "display": null,
            "flex": null,
            "flex_flow": null,
            "grid_area": null,
            "grid_auto_columns": null,
            "grid_auto_flow": null,
            "grid_auto_rows": null,
            "grid_column": null,
            "grid_gap": null,
            "grid_row": null,
            "grid_template_areas": null,
            "grid_template_columns": null,
            "grid_template_rows": null,
            "height": null,
            "justify_content": null,
            "justify_items": null,
            "left": null,
            "margin": null,
            "max_height": null,
            "max_width": null,
            "min_height": null,
            "min_width": null,
            "object_fit": null,
            "object_position": null,
            "order": null,
            "overflow": null,
            "overflow_x": null,
            "overflow_y": null,
            "padding": null,
            "right": null,
            "top": null,
            "visibility": null,
            "width": null
          }
        },
        "ddbdf8e3737d4527a106e0d1eb9f2bb3": {
          "model_module": "@jupyter-widgets/controls",
          "model_name": "ProgressStyleModel",
          "model_module_version": "1.5.0",
          "state": {
            "_model_module": "@jupyter-widgets/controls",
            "_model_module_version": "1.5.0",
            "_model_name": "ProgressStyleModel",
            "_view_count": null,
            "_view_module": "@jupyter-widgets/base",
            "_view_module_version": "1.2.0",
            "_view_name": "StyleView",
            "bar_color": null,
            "description_width": ""
          }
        },
        "bfa37686560f4805a6fc30a892801aee": {
          "model_module": "@jupyter-widgets/base",
          "model_name": "LayoutModel",
          "model_module_version": "1.2.0",
          "state": {
            "_model_module": "@jupyter-widgets/base",
            "_model_module_version": "1.2.0",
            "_model_name": "LayoutModel",
            "_view_count": null,
            "_view_module": "@jupyter-widgets/base",
            "_view_module_version": "1.2.0",
            "_view_name": "LayoutView",
            "align_content": null,
            "align_items": null,
            "align_self": null,
            "border": null,
            "bottom": null,
            "display": null,
            "flex": null,
            "flex_flow": null,
            "grid_area": null,
            "grid_auto_columns": null,
            "grid_auto_flow": null,
            "grid_auto_rows": null,
            "grid_column": null,
            "grid_gap": null,
            "grid_row": null,
            "grid_template_areas": null,
            "grid_template_columns": null,
            "grid_template_rows": null,
            "height": null,
            "justify_content": null,
            "justify_items": null,
            "left": null,
            "margin": null,
            "max_height": null,
            "max_width": null,
            "min_height": null,
            "min_width": null,
            "object_fit": null,
            "object_position": null,
            "order": null,
            "overflow": null,
            "overflow_x": null,
            "overflow_y": null,
            "padding": null,
            "right": null,
            "top": null,
            "visibility": null,
            "width": null
          }
        },
        "205ee16d55ca4eefbb466c7af28bc9de": {
          "model_module": "@jupyter-widgets/controls",
          "model_name": "DescriptionStyleModel",
          "model_module_version": "1.5.0",
          "state": {
            "_model_module": "@jupyter-widgets/controls",
            "_model_module_version": "1.5.0",
            "_model_name": "DescriptionStyleModel",
            "_view_count": null,
            "_view_module": "@jupyter-widgets/base",
            "_view_module_version": "1.2.0",
            "_view_name": "StyleView",
            "description_width": ""
          }
        },
        "f8b0323e586746ab9784bd0f2be59aff": {
          "model_module": "@jupyter-widgets/controls",
          "model_name": "HBoxModel",
          "model_module_version": "1.5.0",
          "state": {
            "_dom_classes": [],
            "_model_module": "@jupyter-widgets/controls",
            "_model_module_version": "1.5.0",
            "_model_name": "HBoxModel",
            "_view_count": null,
            "_view_module": "@jupyter-widgets/controls",
            "_view_module_version": "1.5.0",
            "_view_name": "HBoxView",
            "box_style": "",
            "children": [
              "IPY_MODEL_f3ed0e000b654adcad072e7d9cf9105b",
              "IPY_MODEL_43f3c6fdfc56439885bda6271cd7cf74",
              "IPY_MODEL_7fb96da8c54149999c58193707b812aa"
            ],
            "layout": "IPY_MODEL_03ea3249db374dfc9209efbdc7fa5f2e"
          }
        },
        "f3ed0e000b654adcad072e7d9cf9105b": {
          "model_module": "@jupyter-widgets/controls",
          "model_name": "HTMLModel",
          "model_module_version": "1.5.0",
          "state": {
            "_dom_classes": [],
            "_model_module": "@jupyter-widgets/controls",
            "_model_module_version": "1.5.0",
            "_model_name": "HTMLModel",
            "_view_count": null,
            "_view_module": "@jupyter-widgets/controls",
            "_view_module_version": "1.5.0",
            "_view_name": "HTMLView",
            "description": "",
            "description_tooltip": null,
            "layout": "IPY_MODEL_ba343e99fb1949b2839816fb5d4bd8b6",
            "placeholder": "​",
            "style": "IPY_MODEL_72efa08006e540eeb31724b7d71cbc02",
            "value": "Downloading (…)/main/tokenizer.json: 100%"
          }
        },
        "43f3c6fdfc56439885bda6271cd7cf74": {
          "model_module": "@jupyter-widgets/controls",
          "model_name": "FloatProgressModel",
          "model_module_version": "1.5.0",
          "state": {
            "_dom_classes": [],
            "_model_module": "@jupyter-widgets/controls",
            "_model_module_version": "1.5.0",
            "_model_name": "FloatProgressModel",
            "_view_count": null,
            "_view_module": "@jupyter-widgets/controls",
            "_view_module_version": "1.5.0",
            "_view_name": "ProgressView",
            "bar_style": "success",
            "description": "",
            "description_tooltip": null,
            "layout": "IPY_MODEL_f95d2d6bfb1a4533afbbce62427732c5",
            "max": 466062,
            "min": 0,
            "orientation": "horizontal",
            "style": "IPY_MODEL_d339d061444a493a9e42377139ac0f7b",
            "value": 466062
          }
        },
        "7fb96da8c54149999c58193707b812aa": {
          "model_module": "@jupyter-widgets/controls",
          "model_name": "HTMLModel",
          "model_module_version": "1.5.0",
          "state": {
            "_dom_classes": [],
            "_model_module": "@jupyter-widgets/controls",
            "_model_module_version": "1.5.0",
            "_model_name": "HTMLModel",
            "_view_count": null,
            "_view_module": "@jupyter-widgets/controls",
            "_view_module_version": "1.5.0",
            "_view_name": "HTMLView",
            "description": "",
            "description_tooltip": null,
            "layout": "IPY_MODEL_2a99bc93fab04541a1c1437abd95617b",
            "placeholder": "​",
            "style": "IPY_MODEL_d863fcfe70294eb5808b5a73bd11d317",
            "value": " 466k/466k [00:00&lt;00:00, 1.97MB/s]"
          }
        },
        "03ea3249db374dfc9209efbdc7fa5f2e": {
          "model_module": "@jupyter-widgets/base",
          "model_name": "LayoutModel",
          "model_module_version": "1.2.0",
          "state": {
            "_model_module": "@jupyter-widgets/base",
            "_model_module_version": "1.2.0",
            "_model_name": "LayoutModel",
            "_view_count": null,
            "_view_module": "@jupyter-widgets/base",
            "_view_module_version": "1.2.0",
            "_view_name": "LayoutView",
            "align_content": null,
            "align_items": null,
            "align_self": null,
            "border": null,
            "bottom": null,
            "display": null,
            "flex": null,
            "flex_flow": null,
            "grid_area": null,
            "grid_auto_columns": null,
            "grid_auto_flow": null,
            "grid_auto_rows": null,
            "grid_column": null,
            "grid_gap": null,
            "grid_row": null,
            "grid_template_areas": null,
            "grid_template_columns": null,
            "grid_template_rows": null,
            "height": null,
            "justify_content": null,
            "justify_items": null,
            "left": null,
            "margin": null,
            "max_height": null,
            "max_width": null,
            "min_height": null,
            "min_width": null,
            "object_fit": null,
            "object_position": null,
            "order": null,
            "overflow": null,
            "overflow_x": null,
            "overflow_y": null,
            "padding": null,
            "right": null,
            "top": null,
            "visibility": null,
            "width": null
          }
        },
        "ba343e99fb1949b2839816fb5d4bd8b6": {
          "model_module": "@jupyter-widgets/base",
          "model_name": "LayoutModel",
          "model_module_version": "1.2.0",
          "state": {
            "_model_module": "@jupyter-widgets/base",
            "_model_module_version": "1.2.0",
            "_model_name": "LayoutModel",
            "_view_count": null,
            "_view_module": "@jupyter-widgets/base",
            "_view_module_version": "1.2.0",
            "_view_name": "LayoutView",
            "align_content": null,
            "align_items": null,
            "align_self": null,
            "border": null,
            "bottom": null,
            "display": null,
            "flex": null,
            "flex_flow": null,
            "grid_area": null,
            "grid_auto_columns": null,
            "grid_auto_flow": null,
            "grid_auto_rows": null,
            "grid_column": null,
            "grid_gap": null,
            "grid_row": null,
            "grid_template_areas": null,
            "grid_template_columns": null,
            "grid_template_rows": null,
            "height": null,
            "justify_content": null,
            "justify_items": null,
            "left": null,
            "margin": null,
            "max_height": null,
            "max_width": null,
            "min_height": null,
            "min_width": null,
            "object_fit": null,
            "object_position": null,
            "order": null,
            "overflow": null,
            "overflow_x": null,
            "overflow_y": null,
            "padding": null,
            "right": null,
            "top": null,
            "visibility": null,
            "width": null
          }
        },
        "72efa08006e540eeb31724b7d71cbc02": {
          "model_module": "@jupyter-widgets/controls",
          "model_name": "DescriptionStyleModel",
          "model_module_version": "1.5.0",
          "state": {
            "_model_module": "@jupyter-widgets/controls",
            "_model_module_version": "1.5.0",
            "_model_name": "DescriptionStyleModel",
            "_view_count": null,
            "_view_module": "@jupyter-widgets/base",
            "_view_module_version": "1.2.0",
            "_view_name": "StyleView",
            "description_width": ""
          }
        },
        "f95d2d6bfb1a4533afbbce62427732c5": {
          "model_module": "@jupyter-widgets/base",
          "model_name": "LayoutModel",
          "model_module_version": "1.2.0",
          "state": {
            "_model_module": "@jupyter-widgets/base",
            "_model_module_version": "1.2.0",
            "_model_name": "LayoutModel",
            "_view_count": null,
            "_view_module": "@jupyter-widgets/base",
            "_view_module_version": "1.2.0",
            "_view_name": "LayoutView",
            "align_content": null,
            "align_items": null,
            "align_self": null,
            "border": null,
            "bottom": null,
            "display": null,
            "flex": null,
            "flex_flow": null,
            "grid_area": null,
            "grid_auto_columns": null,
            "grid_auto_flow": null,
            "grid_auto_rows": null,
            "grid_column": null,
            "grid_gap": null,
            "grid_row": null,
            "grid_template_areas": null,
            "grid_template_columns": null,
            "grid_template_rows": null,
            "height": null,
            "justify_content": null,
            "justify_items": null,
            "left": null,
            "margin": null,
            "max_height": null,
            "max_width": null,
            "min_height": null,
            "min_width": null,
            "object_fit": null,
            "object_position": null,
            "order": null,
            "overflow": null,
            "overflow_x": null,
            "overflow_y": null,
            "padding": null,
            "right": null,
            "top": null,
            "visibility": null,
            "width": null
          }
        },
        "d339d061444a493a9e42377139ac0f7b": {
          "model_module": "@jupyter-widgets/controls",
          "model_name": "ProgressStyleModel",
          "model_module_version": "1.5.0",
          "state": {
            "_model_module": "@jupyter-widgets/controls",
            "_model_module_version": "1.5.0",
            "_model_name": "ProgressStyleModel",
            "_view_count": null,
            "_view_module": "@jupyter-widgets/base",
            "_view_module_version": "1.2.0",
            "_view_name": "StyleView",
            "bar_color": null,
            "description_width": ""
          }
        },
        "2a99bc93fab04541a1c1437abd95617b": {
          "model_module": "@jupyter-widgets/base",
          "model_name": "LayoutModel",
          "model_module_version": "1.2.0",
          "state": {
            "_model_module": "@jupyter-widgets/base",
            "_model_module_version": "1.2.0",
            "_model_name": "LayoutModel",
            "_view_count": null,
            "_view_module": "@jupyter-widgets/base",
            "_view_module_version": "1.2.0",
            "_view_name": "LayoutView",
            "align_content": null,
            "align_items": null,
            "align_self": null,
            "border": null,
            "bottom": null,
            "display": null,
            "flex": null,
            "flex_flow": null,
            "grid_area": null,
            "grid_auto_columns": null,
            "grid_auto_flow": null,
            "grid_auto_rows": null,
            "grid_column": null,
            "grid_gap": null,
            "grid_row": null,
            "grid_template_areas": null,
            "grid_template_columns": null,
            "grid_template_rows": null,
            "height": null,
            "justify_content": null,
            "justify_items": null,
            "left": null,
            "margin": null,
            "max_height": null,
            "max_width": null,
            "min_height": null,
            "min_width": null,
            "object_fit": null,
            "object_position": null,
            "order": null,
            "overflow": null,
            "overflow_x": null,
            "overflow_y": null,
            "padding": null,
            "right": null,
            "top": null,
            "visibility": null,
            "width": null
          }
        },
        "d863fcfe70294eb5808b5a73bd11d317": {
          "model_module": "@jupyter-widgets/controls",
          "model_name": "DescriptionStyleModel",
          "model_module_version": "1.5.0",
          "state": {
            "_model_module": "@jupyter-widgets/controls",
            "_model_module_version": "1.5.0",
            "_model_name": "DescriptionStyleModel",
            "_view_count": null,
            "_view_module": "@jupyter-widgets/base",
            "_view_module_version": "1.2.0",
            "_view_name": "StyleView",
            "description_width": ""
          }
        },
        "e3af78eb5c8341178f36024ce392da04": {
          "model_module": "@jupyter-widgets/controls",
          "model_name": "HBoxModel",
          "model_module_version": "1.5.0",
          "state": {
            "_dom_classes": [],
            "_model_module": "@jupyter-widgets/controls",
            "_model_module_version": "1.5.0",
            "_model_name": "HBoxModel",
            "_view_count": null,
            "_view_module": "@jupyter-widgets/controls",
            "_view_module_version": "1.5.0",
            "_view_name": "HBoxView",
            "box_style": "",
            "children": [
              "IPY_MODEL_c62f1d1f7f924c6a9738af80a1937f34",
              "IPY_MODEL_55a53cde002c4a408c6d114b137680c8",
              "IPY_MODEL_8038daef7f6f4b99a677d457f84f4fa7"
            ],
            "layout": "IPY_MODEL_09059eb5404849f7a457f8a242ea1916"
          }
        },
        "c62f1d1f7f924c6a9738af80a1937f34": {
          "model_module": "@jupyter-widgets/controls",
          "model_name": "HTMLModel",
          "model_module_version": "1.5.0",
          "state": {
            "_dom_classes": [],
            "_model_module": "@jupyter-widgets/controls",
            "_model_module_version": "1.5.0",
            "_model_name": "HTMLModel",
            "_view_count": null,
            "_view_module": "@jupyter-widgets/controls",
            "_view_module_version": "1.5.0",
            "_view_name": "HTMLView",
            "description": "",
            "description_tooltip": null,
            "layout": "IPY_MODEL_df0d54e83e8243b9aab38ccfcf404e87",
            "placeholder": "​",
            "style": "IPY_MODEL_fcba96dcb8ce4f6ca9c0f3c09be4e661",
            "value": "Downloading (…)lve/main/config.json: 100%"
          }
        },
        "55a53cde002c4a408c6d114b137680c8": {
          "model_module": "@jupyter-widgets/controls",
          "model_name": "FloatProgressModel",
          "model_module_version": "1.5.0",
          "state": {
            "_dom_classes": [],
            "_model_module": "@jupyter-widgets/controls",
            "_model_module_version": "1.5.0",
            "_model_name": "FloatProgressModel",
            "_view_count": null,
            "_view_module": "@jupyter-widgets/controls",
            "_view_module_version": "1.5.0",
            "_view_name": "ProgressView",
            "bar_style": "success",
            "description": "",
            "description_tooltip": null,
            "layout": "IPY_MODEL_5653cc734f1847e98054e2951c5ff062",
            "max": 570,
            "min": 0,
            "orientation": "horizontal",
            "style": "IPY_MODEL_0f47cebc4d3b4936ae21ffe0876bf2de",
            "value": 570
          }
        },
        "8038daef7f6f4b99a677d457f84f4fa7": {
          "model_module": "@jupyter-widgets/controls",
          "model_name": "HTMLModel",
          "model_module_version": "1.5.0",
          "state": {
            "_dom_classes": [],
            "_model_module": "@jupyter-widgets/controls",
            "_model_module_version": "1.5.0",
            "_model_name": "HTMLModel",
            "_view_count": null,
            "_view_module": "@jupyter-widgets/controls",
            "_view_module_version": "1.5.0",
            "_view_name": "HTMLView",
            "description": "",
            "description_tooltip": null,
            "layout": "IPY_MODEL_34eba14a5bd340a9a201c5697328a17b",
            "placeholder": "​",
            "style": "IPY_MODEL_54dab0c502b644f3ba60bda1638c2af1",
            "value": " 570/570 [00:00&lt;00:00, 8.49kB/s]"
          }
        },
        "09059eb5404849f7a457f8a242ea1916": {
          "model_module": "@jupyter-widgets/base",
          "model_name": "LayoutModel",
          "model_module_version": "1.2.0",
          "state": {
            "_model_module": "@jupyter-widgets/base",
            "_model_module_version": "1.2.0",
            "_model_name": "LayoutModel",
            "_view_count": null,
            "_view_module": "@jupyter-widgets/base",
            "_view_module_version": "1.2.0",
            "_view_name": "LayoutView",
            "align_content": null,
            "align_items": null,
            "align_self": null,
            "border": null,
            "bottom": null,
            "display": null,
            "flex": null,
            "flex_flow": null,
            "grid_area": null,
            "grid_auto_columns": null,
            "grid_auto_flow": null,
            "grid_auto_rows": null,
            "grid_column": null,
            "grid_gap": null,
            "grid_row": null,
            "grid_template_areas": null,
            "grid_template_columns": null,
            "grid_template_rows": null,
            "height": null,
            "justify_content": null,
            "justify_items": null,
            "left": null,
            "margin": null,
            "max_height": null,
            "max_width": null,
            "min_height": null,
            "min_width": null,
            "object_fit": null,
            "object_position": null,
            "order": null,
            "overflow": null,
            "overflow_x": null,
            "overflow_y": null,
            "padding": null,
            "right": null,
            "top": null,
            "visibility": null,
            "width": null
          }
        },
        "df0d54e83e8243b9aab38ccfcf404e87": {
          "model_module": "@jupyter-widgets/base",
          "model_name": "LayoutModel",
          "model_module_version": "1.2.0",
          "state": {
            "_model_module": "@jupyter-widgets/base",
            "_model_module_version": "1.2.0",
            "_model_name": "LayoutModel",
            "_view_count": null,
            "_view_module": "@jupyter-widgets/base",
            "_view_module_version": "1.2.0",
            "_view_name": "LayoutView",
            "align_content": null,
            "align_items": null,
            "align_self": null,
            "border": null,
            "bottom": null,
            "display": null,
            "flex": null,
            "flex_flow": null,
            "grid_area": null,
            "grid_auto_columns": null,
            "grid_auto_flow": null,
            "grid_auto_rows": null,
            "grid_column": null,
            "grid_gap": null,
            "grid_row": null,
            "grid_template_areas": null,
            "grid_template_columns": null,
            "grid_template_rows": null,
            "height": null,
            "justify_content": null,
            "justify_items": null,
            "left": null,
            "margin": null,
            "max_height": null,
            "max_width": null,
            "min_height": null,
            "min_width": null,
            "object_fit": null,
            "object_position": null,
            "order": null,
            "overflow": null,
            "overflow_x": null,
            "overflow_y": null,
            "padding": null,
            "right": null,
            "top": null,
            "visibility": null,
            "width": null
          }
        },
        "fcba96dcb8ce4f6ca9c0f3c09be4e661": {
          "model_module": "@jupyter-widgets/controls",
          "model_name": "DescriptionStyleModel",
          "model_module_version": "1.5.0",
          "state": {
            "_model_module": "@jupyter-widgets/controls",
            "_model_module_version": "1.5.0",
            "_model_name": "DescriptionStyleModel",
            "_view_count": null,
            "_view_module": "@jupyter-widgets/base",
            "_view_module_version": "1.2.0",
            "_view_name": "StyleView",
            "description_width": ""
          }
        },
        "5653cc734f1847e98054e2951c5ff062": {
          "model_module": "@jupyter-widgets/base",
          "model_name": "LayoutModel",
          "model_module_version": "1.2.0",
          "state": {
            "_model_module": "@jupyter-widgets/base",
            "_model_module_version": "1.2.0",
            "_model_name": "LayoutModel",
            "_view_count": null,
            "_view_module": "@jupyter-widgets/base",
            "_view_module_version": "1.2.0",
            "_view_name": "LayoutView",
            "align_content": null,
            "align_items": null,
            "align_self": null,
            "border": null,
            "bottom": null,
            "display": null,
            "flex": null,
            "flex_flow": null,
            "grid_area": null,
            "grid_auto_columns": null,
            "grid_auto_flow": null,
            "grid_auto_rows": null,
            "grid_column": null,
            "grid_gap": null,
            "grid_row": null,
            "grid_template_areas": null,
            "grid_template_columns": null,
            "grid_template_rows": null,
            "height": null,
            "justify_content": null,
            "justify_items": null,
            "left": null,
            "margin": null,
            "max_height": null,
            "max_width": null,
            "min_height": null,
            "min_width": null,
            "object_fit": null,
            "object_position": null,
            "order": null,
            "overflow": null,
            "overflow_x": null,
            "overflow_y": null,
            "padding": null,
            "right": null,
            "top": null,
            "visibility": null,
            "width": null
          }
        },
        "0f47cebc4d3b4936ae21ffe0876bf2de": {
          "model_module": "@jupyter-widgets/controls",
          "model_name": "ProgressStyleModel",
          "model_module_version": "1.5.0",
          "state": {
            "_model_module": "@jupyter-widgets/controls",
            "_model_module_version": "1.5.0",
            "_model_name": "ProgressStyleModel",
            "_view_count": null,
            "_view_module": "@jupyter-widgets/base",
            "_view_module_version": "1.2.0",
            "_view_name": "StyleView",
            "bar_color": null,
            "description_width": ""
          }
        },
        "34eba14a5bd340a9a201c5697328a17b": {
          "model_module": "@jupyter-widgets/base",
          "model_name": "LayoutModel",
          "model_module_version": "1.2.0",
          "state": {
            "_model_module": "@jupyter-widgets/base",
            "_model_module_version": "1.2.0",
            "_model_name": "LayoutModel",
            "_view_count": null,
            "_view_module": "@jupyter-widgets/base",
            "_view_module_version": "1.2.0",
            "_view_name": "LayoutView",
            "align_content": null,
            "align_items": null,
            "align_self": null,
            "border": null,
            "bottom": null,
            "display": null,
            "flex": null,
            "flex_flow": null,
            "grid_area": null,
            "grid_auto_columns": null,
            "grid_auto_flow": null,
            "grid_auto_rows": null,
            "grid_column": null,
            "grid_gap": null,
            "grid_row": null,
            "grid_template_areas": null,
            "grid_template_columns": null,
            "grid_template_rows": null,
            "height": null,
            "justify_content": null,
            "justify_items": null,
            "left": null,
            "margin": null,
            "max_height": null,
            "max_width": null,
            "min_height": null,
            "min_width": null,
            "object_fit": null,
            "object_position": null,
            "order": null,
            "overflow": null,
            "overflow_x": null,
            "overflow_y": null,
            "padding": null,
            "right": null,
            "top": null,
            "visibility": null,
            "width": null
          }
        },
        "54dab0c502b644f3ba60bda1638c2af1": {
          "model_module": "@jupyter-widgets/controls",
          "model_name": "DescriptionStyleModel",
          "model_module_version": "1.5.0",
          "state": {
            "_model_module": "@jupyter-widgets/controls",
            "_model_module_version": "1.5.0",
            "_model_name": "DescriptionStyleModel",
            "_view_count": null,
            "_view_module": "@jupyter-widgets/base",
            "_view_module_version": "1.2.0",
            "_view_name": "StyleView",
            "description_width": ""
          }
        }
      }
    }
  },
  "nbformat": 4,
  "nbformat_minor": 0
}